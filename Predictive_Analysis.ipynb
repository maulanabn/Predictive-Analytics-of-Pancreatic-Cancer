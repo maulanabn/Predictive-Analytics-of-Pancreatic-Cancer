{
  "nbformat": 4,
  "nbformat_minor": 0,
  "metadata": {
    "colab": {
      "provenance": [],
      "collapsed_sections": []
    },
    "kernelspec": {
      "name": "python3",
      "display_name": "Python 3"
    },
    "language_info": {
      "name": "python"
    },
    "gpuClass": "standard"
  },
  "cells": [
    {
      "cell_type": "markdown",
      "source": [
        "#**Proyek Predictive Analysis : Prediksi Penyakit Kanker Pankreas Pada Manusia**"
      ],
      "metadata": {
        "id": "h86_VJJpTm21"
      }
    },
    {
      "cell_type": "markdown",
      "source": [
        "### by : Baharuddin Nur Maulana"
      ],
      "metadata": {
        "id": "hU98zId1UOvR"
      }
    },
    {
      "cell_type": "markdown",
      "source": [
        "##Import Library"
      ],
      "metadata": {
        "id": "E2Sm0hFnUZBw"
      }
    },
    {
      "cell_type": "code",
      "execution_count": 1,
      "metadata": {
        "id": "evwGd3KRTirC"
      },
      "outputs": [],
      "source": [
        "import tensorflow as tf\n",
        "import numpy as np\n",
        "import pandas as pd\n",
        "import matplotlib.pyplot as plt\n",
        "import os\n",
        "import zipfile\n",
        "import seaborn as sns\n",
        "from sklearn.preprocessing import MinMaxScaler\n",
        "from sklearn.model_selection import train_test_split\n",
        "from sklearn.ensemble import RandomForestClassifier\n",
        "from sklearn.neighbors import KNeighborsClassifier\n",
        "from sklearn.svm import SVC\n",
        "from sklearn.metrics import accuracy_score"
      ]
    },
    {
      "cell_type": "markdown",
      "source": [
        "##Import Kaggle"
      ],
      "metadata": {
        "id": "WYTyoWTFVisi"
      }
    },
    {
      "cell_type": "code",
      "source": [
        "! pip install -q kaggle"
      ],
      "metadata": {
        "id": "tGSkH4YpVNll"
      },
      "execution_count": 2,
      "outputs": []
    },
    {
      "cell_type": "code",
      "source": [
        "from google.colab import files\n",
        "files.upload()"
      ],
      "metadata": {
        "colab": {
          "resources": {
            "http://localhost:8080/nbextensions/google.colab/files.js": {
              "data": "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",
              "ok": true,
              "headers": [
                [
                  "content-type",
                  "application/javascript"
                ]
              ],
              "status": 200,
              "status_text": ""
            }
          },
          "base_uri": "https://localhost:8080/",
          "height": 92
        },
        "id": "4q_n8pX0V239",
        "outputId": "582603d8-1171-4960-8b0e-52e6fa1d7eab"
      },
      "execution_count": 3,
      "outputs": [
        {
          "output_type": "display_data",
          "data": {
            "text/plain": [
              "<IPython.core.display.HTML object>"
            ],
            "text/html": [
              "\n",
              "     <input type=\"file\" id=\"files-82bb0f89-27b4-45ee-ba98-e6e46df65beb\" name=\"files[]\" multiple disabled\n",
              "        style=\"border:none\" />\n",
              "     <output id=\"result-82bb0f89-27b4-45ee-ba98-e6e46df65beb\">\n",
              "      Upload widget is only available when the cell has been executed in the\n",
              "      current browser session. Please rerun this cell to enable.\n",
              "      </output>\n",
              "      <script src=\"/nbextensions/google.colab/files.js\"></script> "
            ]
          },
          "metadata": {}
        },
        {
          "output_type": "stream",
          "name": "stdout",
          "text": [
            "Saving kaggle.json to kaggle.json\n"
          ]
        },
        {
          "output_type": "execute_result",
          "data": {
            "text/plain": [
              "{'kaggle.json': b'{\"username\":\"baharuddinnurm\",\"key\":\"dfbbd9dfa2f0bc24956bc3c4ff6092ae\"}'}"
            ]
          },
          "metadata": {},
          "execution_count": 3
        }
      ]
    },
    {
      "cell_type": "code",
      "source": [
        "! mkdir -p ~/.kaggle\n",
        "! cp kaggle.json ~/.kaggle/\n",
        "! chmod 600 ~/.kaggle/kaggle.json"
      ],
      "metadata": {
        "id": "qyZdj_jWWDTd"
      },
      "execution_count": 4,
      "outputs": []
    },
    {
      "cell_type": "code",
      "source": [
        "! kaggle datasets download -d johnjdavisiv/urinary-biomarkers-for-pancreatic-cancer"
      ],
      "metadata": {
        "id": "futfIzqQWVSq",
        "colab": {
          "base_uri": "https://localhost:8080/"
        },
        "outputId": "9985534d-e594-430d-e428-194480f92992"
      },
      "execution_count": 5,
      "outputs": [
        {
          "output_type": "stream",
          "name": "stdout",
          "text": [
            "Downloading urinary-biomarkers-for-pancreatic-cancer.zip to /content\n",
            "\r  0% 0.00/18.0k [00:00<?, ?B/s]\n",
            "\r100% 18.0k/18.0k [00:00<00:00, 9.12MB/s]\n"
          ]
        }
      ]
    },
    {
      "cell_type": "code",
      "source": [
        "! unzip urinary-biomarkers-for-pancreatic-cancer.zip"
      ],
      "metadata": {
        "colab": {
          "base_uri": "https://localhost:8080/"
        },
        "id": "KwknV4cfWpvS",
        "outputId": "5e309f45-afd4-4b4f-b8f8-7cfce4cc44c3"
      },
      "execution_count": 6,
      "outputs": [
        {
          "output_type": "stream",
          "name": "stdout",
          "text": [
            "Archive:  urinary-biomarkers-for-pancreatic-cancer.zip\n",
            "  inflating: Debernardi et al 2020 data.csv  \n",
            "  inflating: Debernardi et al 2020 documentation.csv  \n"
          ]
        }
      ]
    },
    {
      "cell_type": "markdown",
      "source": [
        "##Data Understanding"
      ],
      "metadata": {
        "id": "GfRixPGaXVt0"
      }
    },
    {
      "cell_type": "markdown",
      "source": [
        "## Import Dataset"
      ],
      "metadata": {
        "id": "az5YZluEglio"
      }
    },
    {
      "cell_type": "code",
      "source": [
        "df=pd.read_csv('Debernardi et al 2020 data.csv')\n",
        "df"
      ],
      "metadata": {
        "colab": {
          "base_uri": "https://localhost:8080/",
          "height": 467
        },
        "id": "-OicvHYVXYVW",
        "outputId": "04e2b2b0-120e-4b11-d305-37dab28b07b3"
      },
      "execution_count": 7,
      "outputs": [
        {
          "output_type": "execute_result",
          "data": {
            "text/plain": [
              "    sample_id patient_cohort sample_origin  age sex  diagnosis stage  \\\n",
              "0          S1        Cohort1          BPTB   33   F          1   NaN   \n",
              "1         S10        Cohort1          BPTB   81   F          1   NaN   \n",
              "2        S100        Cohort2          BPTB   51   M          1   NaN   \n",
              "3        S101        Cohort2          BPTB   61   M          1   NaN   \n",
              "4        S102        Cohort2          BPTB   62   M          1   NaN   \n",
              "..        ...            ...           ...  ...  ..        ...   ...   \n",
              "585      S549        Cohort2          BPTB   68   M          3    IV   \n",
              "586      S558        Cohort2          BPTB   71   F          3    IV   \n",
              "587      S560        Cohort2          BPTB   63   M          3    IV   \n",
              "588      S583        Cohort2          BPTB   75   F          3    IV   \n",
              "589      S590        Cohort1          BPTB   74   M          3    IV   \n",
              "\n",
              "    benign_sample_diagnosis  plasma_CA19_9  creatinine     LYVE1       REG1B  \\\n",
              "0                       NaN           11.7     1.83222  0.893219   52.948840   \n",
              "1                       NaN            NaN     0.97266  2.037585   94.467030   \n",
              "2                       NaN            7.0     0.78039  0.145589  102.366000   \n",
              "3                       NaN            8.0     0.70122  0.002805   60.579000   \n",
              "4                       NaN            9.0     0.21489  0.000860   65.540000   \n",
              "..                      ...            ...         ...       ...         ...   \n",
              "585                     NaN            NaN     0.52026  7.058209  156.241000   \n",
              "586                     NaN            NaN     0.85956  8.341207   16.915000   \n",
              "587                     NaN            NaN     1.36851  7.674707  289.701000   \n",
              "588                     NaN            NaN     1.33458  8.206777  205.930000   \n",
              "589                     NaN         1488.0     1.50423  8.200958  411.938275   \n",
              "\n",
              "            TFF1      REG1A  \n",
              "0     654.282174   1262.000  \n",
              "1     209.488250    228.407  \n",
              "2     461.141000        NaN  \n",
              "3     142.950000        NaN  \n",
              "4      41.088000        NaN  \n",
              "..           ...        ...  \n",
              "585   525.178000        NaN  \n",
              "586   245.947000        NaN  \n",
              "587   537.286000        NaN  \n",
              "588   722.523000        NaN  \n",
              "589  2021.321078  13200.000  \n",
              "\n",
              "[590 rows x 14 columns]"
            ],
            "text/html": [
              "\n",
              "  <div id=\"df-2dd175f1-5a98-4b2b-9ee6-053f6fab7d1f\">\n",
              "    <div class=\"colab-df-container\">\n",
              "      <div>\n",
              "<style scoped>\n",
              "    .dataframe tbody tr th:only-of-type {\n",
              "        vertical-align: middle;\n",
              "    }\n",
              "\n",
              "    .dataframe tbody tr th {\n",
              "        vertical-align: top;\n",
              "    }\n",
              "\n",
              "    .dataframe thead th {\n",
              "        text-align: right;\n",
              "    }\n",
              "</style>\n",
              "<table border=\"1\" class=\"dataframe\">\n",
              "  <thead>\n",
              "    <tr style=\"text-align: right;\">\n",
              "      <th></th>\n",
              "      <th>sample_id</th>\n",
              "      <th>patient_cohort</th>\n",
              "      <th>sample_origin</th>\n",
              "      <th>age</th>\n",
              "      <th>sex</th>\n",
              "      <th>diagnosis</th>\n",
              "      <th>stage</th>\n",
              "      <th>benign_sample_diagnosis</th>\n",
              "      <th>plasma_CA19_9</th>\n",
              "      <th>creatinine</th>\n",
              "      <th>LYVE1</th>\n",
              "      <th>REG1B</th>\n",
              "      <th>TFF1</th>\n",
              "      <th>REG1A</th>\n",
              "    </tr>\n",
              "  </thead>\n",
              "  <tbody>\n",
              "    <tr>\n",
              "      <th>0</th>\n",
              "      <td>S1</td>\n",
              "      <td>Cohort1</td>\n",
              "      <td>BPTB</td>\n",
              "      <td>33</td>\n",
              "      <td>F</td>\n",
              "      <td>1</td>\n",
              "      <td>NaN</td>\n",
              "      <td>NaN</td>\n",
              "      <td>11.7</td>\n",
              "      <td>1.83222</td>\n",
              "      <td>0.893219</td>\n",
              "      <td>52.948840</td>\n",
              "      <td>654.282174</td>\n",
              "      <td>1262.000</td>\n",
              "    </tr>\n",
              "    <tr>\n",
              "      <th>1</th>\n",
              "      <td>S10</td>\n",
              "      <td>Cohort1</td>\n",
              "      <td>BPTB</td>\n",
              "      <td>81</td>\n",
              "      <td>F</td>\n",
              "      <td>1</td>\n",
              "      <td>NaN</td>\n",
              "      <td>NaN</td>\n",
              "      <td>NaN</td>\n",
              "      <td>0.97266</td>\n",
              "      <td>2.037585</td>\n",
              "      <td>94.467030</td>\n",
              "      <td>209.488250</td>\n",
              "      <td>228.407</td>\n",
              "    </tr>\n",
              "    <tr>\n",
              "      <th>2</th>\n",
              "      <td>S100</td>\n",
              "      <td>Cohort2</td>\n",
              "      <td>BPTB</td>\n",
              "      <td>51</td>\n",
              "      <td>M</td>\n",
              "      <td>1</td>\n",
              "      <td>NaN</td>\n",
              "      <td>NaN</td>\n",
              "      <td>7.0</td>\n",
              "      <td>0.78039</td>\n",
              "      <td>0.145589</td>\n",
              "      <td>102.366000</td>\n",
              "      <td>461.141000</td>\n",
              "      <td>NaN</td>\n",
              "    </tr>\n",
              "    <tr>\n",
              "      <th>3</th>\n",
              "      <td>S101</td>\n",
              "      <td>Cohort2</td>\n",
              "      <td>BPTB</td>\n",
              "      <td>61</td>\n",
              "      <td>M</td>\n",
              "      <td>1</td>\n",
              "      <td>NaN</td>\n",
              "      <td>NaN</td>\n",
              "      <td>8.0</td>\n",
              "      <td>0.70122</td>\n",
              "      <td>0.002805</td>\n",
              "      <td>60.579000</td>\n",
              "      <td>142.950000</td>\n",
              "      <td>NaN</td>\n",
              "    </tr>\n",
              "    <tr>\n",
              "      <th>4</th>\n",
              "      <td>S102</td>\n",
              "      <td>Cohort2</td>\n",
              "      <td>BPTB</td>\n",
              "      <td>62</td>\n",
              "      <td>M</td>\n",
              "      <td>1</td>\n",
              "      <td>NaN</td>\n",
              "      <td>NaN</td>\n",
              "      <td>9.0</td>\n",
              "      <td>0.21489</td>\n",
              "      <td>0.000860</td>\n",
              "      <td>65.540000</td>\n",
              "      <td>41.088000</td>\n",
              "      <td>NaN</td>\n",
              "    </tr>\n",
              "    <tr>\n",
              "      <th>...</th>\n",
              "      <td>...</td>\n",
              "      <td>...</td>\n",
              "      <td>...</td>\n",
              "      <td>...</td>\n",
              "      <td>...</td>\n",
              "      <td>...</td>\n",
              "      <td>...</td>\n",
              "      <td>...</td>\n",
              "      <td>...</td>\n",
              "      <td>...</td>\n",
              "      <td>...</td>\n",
              "      <td>...</td>\n",
              "      <td>...</td>\n",
              "      <td>...</td>\n",
              "    </tr>\n",
              "    <tr>\n",
              "      <th>585</th>\n",
              "      <td>S549</td>\n",
              "      <td>Cohort2</td>\n",
              "      <td>BPTB</td>\n",
              "      <td>68</td>\n",
              "      <td>M</td>\n",
              "      <td>3</td>\n",
              "      <td>IV</td>\n",
              "      <td>NaN</td>\n",
              "      <td>NaN</td>\n",
              "      <td>0.52026</td>\n",
              "      <td>7.058209</td>\n",
              "      <td>156.241000</td>\n",
              "      <td>525.178000</td>\n",
              "      <td>NaN</td>\n",
              "    </tr>\n",
              "    <tr>\n",
              "      <th>586</th>\n",
              "      <td>S558</td>\n",
              "      <td>Cohort2</td>\n",
              "      <td>BPTB</td>\n",
              "      <td>71</td>\n",
              "      <td>F</td>\n",
              "      <td>3</td>\n",
              "      <td>IV</td>\n",
              "      <td>NaN</td>\n",
              "      <td>NaN</td>\n",
              "      <td>0.85956</td>\n",
              "      <td>8.341207</td>\n",
              "      <td>16.915000</td>\n",
              "      <td>245.947000</td>\n",
              "      <td>NaN</td>\n",
              "    </tr>\n",
              "    <tr>\n",
              "      <th>587</th>\n",
              "      <td>S560</td>\n",
              "      <td>Cohort2</td>\n",
              "      <td>BPTB</td>\n",
              "      <td>63</td>\n",
              "      <td>M</td>\n",
              "      <td>3</td>\n",
              "      <td>IV</td>\n",
              "      <td>NaN</td>\n",
              "      <td>NaN</td>\n",
              "      <td>1.36851</td>\n",
              "      <td>7.674707</td>\n",
              "      <td>289.701000</td>\n",
              "      <td>537.286000</td>\n",
              "      <td>NaN</td>\n",
              "    </tr>\n",
              "    <tr>\n",
              "      <th>588</th>\n",
              "      <td>S583</td>\n",
              "      <td>Cohort2</td>\n",
              "      <td>BPTB</td>\n",
              "      <td>75</td>\n",
              "      <td>F</td>\n",
              "      <td>3</td>\n",
              "      <td>IV</td>\n",
              "      <td>NaN</td>\n",
              "      <td>NaN</td>\n",
              "      <td>1.33458</td>\n",
              "      <td>8.206777</td>\n",
              "      <td>205.930000</td>\n",
              "      <td>722.523000</td>\n",
              "      <td>NaN</td>\n",
              "    </tr>\n",
              "    <tr>\n",
              "      <th>589</th>\n",
              "      <td>S590</td>\n",
              "      <td>Cohort1</td>\n",
              "      <td>BPTB</td>\n",
              "      <td>74</td>\n",
              "      <td>M</td>\n",
              "      <td>3</td>\n",
              "      <td>IV</td>\n",
              "      <td>NaN</td>\n",
              "      <td>1488.0</td>\n",
              "      <td>1.50423</td>\n",
              "      <td>8.200958</td>\n",
              "      <td>411.938275</td>\n",
              "      <td>2021.321078</td>\n",
              "      <td>13200.000</td>\n",
              "    </tr>\n",
              "  </tbody>\n",
              "</table>\n",
              "<p>590 rows × 14 columns</p>\n",
              "</div>\n",
              "      <button class=\"colab-df-convert\" onclick=\"convertToInteractive('df-2dd175f1-5a98-4b2b-9ee6-053f6fab7d1f')\"\n",
              "              title=\"Convert this dataframe to an interactive table.\"\n",
              "              style=\"display:none;\">\n",
              "        \n",
              "  <svg xmlns=\"http://www.w3.org/2000/svg\" height=\"24px\"viewBox=\"0 0 24 24\"\n",
              "       width=\"24px\">\n",
              "    <path d=\"M0 0h24v24H0V0z\" fill=\"none\"/>\n",
              "    <path d=\"M18.56 5.44l.94 2.06.94-2.06 2.06-.94-2.06-.94-.94-2.06-.94 2.06-2.06.94zm-11 1L8.5 8.5l.94-2.06 2.06-.94-2.06-.94L8.5 2.5l-.94 2.06-2.06.94zm10 10l.94 2.06.94-2.06 2.06-.94-2.06-.94-.94-2.06-.94 2.06-2.06.94z\"/><path d=\"M17.41 7.96l-1.37-1.37c-.4-.4-.92-.59-1.43-.59-.52 0-1.04.2-1.43.59L10.3 9.45l-7.72 7.72c-.78.78-.78 2.05 0 2.83L4 21.41c.39.39.9.59 1.41.59.51 0 1.02-.2 1.41-.59l7.78-7.78 2.81-2.81c.8-.78.8-2.07 0-2.86zM5.41 20L4 18.59l7.72-7.72 1.47 1.35L5.41 20z\"/>\n",
              "  </svg>\n",
              "      </button>\n",
              "      \n",
              "  <style>\n",
              "    .colab-df-container {\n",
              "      display:flex;\n",
              "      flex-wrap:wrap;\n",
              "      gap: 12px;\n",
              "    }\n",
              "\n",
              "    .colab-df-convert {\n",
              "      background-color: #E8F0FE;\n",
              "      border: none;\n",
              "      border-radius: 50%;\n",
              "      cursor: pointer;\n",
              "      display: none;\n",
              "      fill: #1967D2;\n",
              "      height: 32px;\n",
              "      padding: 0 0 0 0;\n",
              "      width: 32px;\n",
              "    }\n",
              "\n",
              "    .colab-df-convert:hover {\n",
              "      background-color: #E2EBFA;\n",
              "      box-shadow: 0px 1px 2px rgba(60, 64, 67, 0.3), 0px 1px 3px 1px rgba(60, 64, 67, 0.15);\n",
              "      fill: #174EA6;\n",
              "    }\n",
              "\n",
              "    [theme=dark] .colab-df-convert {\n",
              "      background-color: #3B4455;\n",
              "      fill: #D2E3FC;\n",
              "    }\n",
              "\n",
              "    [theme=dark] .colab-df-convert:hover {\n",
              "      background-color: #434B5C;\n",
              "      box-shadow: 0px 1px 3px 1px rgba(0, 0, 0, 0.15);\n",
              "      filter: drop-shadow(0px 1px 2px rgba(0, 0, 0, 0.3));\n",
              "      fill: #FFFFFF;\n",
              "    }\n",
              "  </style>\n",
              "\n",
              "      <script>\n",
              "        const buttonEl =\n",
              "          document.querySelector('#df-2dd175f1-5a98-4b2b-9ee6-053f6fab7d1f button.colab-df-convert');\n",
              "        buttonEl.style.display =\n",
              "          google.colab.kernel.accessAllowed ? 'block' : 'none';\n",
              "\n",
              "        async function convertToInteractive(key) {\n",
              "          const element = document.querySelector('#df-2dd175f1-5a98-4b2b-9ee6-053f6fab7d1f');\n",
              "          const dataTable =\n",
              "            await google.colab.kernel.invokeFunction('convertToInteractive',\n",
              "                                                     [key], {});\n",
              "          if (!dataTable) return;\n",
              "\n",
              "          const docLinkHtml = 'Like what you see? Visit the ' +\n",
              "            '<a target=\"_blank\" href=https://colab.research.google.com/notebooks/data_table.ipynb>data table notebook</a>'\n",
              "            + ' to learn more about interactive tables.';\n",
              "          element.innerHTML = '';\n",
              "          dataTable['output_type'] = 'display_data';\n",
              "          await google.colab.output.renderOutput(dataTable, element);\n",
              "          const docLink = document.createElement('div');\n",
              "          docLink.innerHTML = docLinkHtml;\n",
              "          element.appendChild(docLink);\n",
              "        }\n",
              "      </script>\n",
              "    </div>\n",
              "  </div>\n",
              "  "
            ]
          },
          "metadata": {},
          "execution_count": 7
        }
      ]
    },
    {
      "cell_type": "markdown",
      "source": [
        "Dari dataset diatas, kita dapat melihat bahwa dataset tersebut memiliki 590 baris dan 14 kolom."
      ],
      "metadata": {
        "id": "uVgZK8ung1QQ"
      }
    },
    {
      "cell_type": "code",
      "source": [
        "df.isnull().sum()"
      ],
      "metadata": {
        "colab": {
          "base_uri": "https://localhost:8080/"
        },
        "id": "hog_DrZXYgA5",
        "outputId": "fe00af8f-f9b0-4e43-aa9c-df58b6017613"
      },
      "execution_count": 8,
      "outputs": [
        {
          "output_type": "execute_result",
          "data": {
            "text/plain": [
              "sample_id                    0\n",
              "patient_cohort               0\n",
              "sample_origin                0\n",
              "age                          0\n",
              "sex                          0\n",
              "diagnosis                    0\n",
              "stage                      391\n",
              "benign_sample_diagnosis    382\n",
              "plasma_CA19_9              240\n",
              "creatinine                   0\n",
              "LYVE1                        0\n",
              "REG1B                        0\n",
              "TFF1                         0\n",
              "REG1A                      284\n",
              "dtype: int64"
            ]
          },
          "metadata": {},
          "execution_count": 8
        }
      ]
    },
    {
      "cell_type": "markdown",
      "source": [
        "Dari informasi diatas, menunjukkan terjadinya missing value pada beberapa kolom dataset, diantaranya pada kolom stage, benign_sample_diagnosis, plasma_CA19_9 dan REG1A."
      ],
      "metadata": {
        "id": "xhPp8BZhhiDS"
      }
    },
    {
      "cell_type": "code",
      "source": [
        "df.info()"
      ],
      "metadata": {
        "colab": {
          "base_uri": "https://localhost:8080/"
        },
        "id": "6Y6Vtrz8iopk",
        "outputId": "912b00e2-fc7b-48c6-cab9-8505a0f45799"
      },
      "execution_count": 9,
      "outputs": [
        {
          "output_type": "stream",
          "name": "stdout",
          "text": [
            "<class 'pandas.core.frame.DataFrame'>\n",
            "RangeIndex: 590 entries, 0 to 589\n",
            "Data columns (total 14 columns):\n",
            " #   Column                   Non-Null Count  Dtype  \n",
            "---  ------                   --------------  -----  \n",
            " 0   sample_id                590 non-null    object \n",
            " 1   patient_cohort           590 non-null    object \n",
            " 2   sample_origin            590 non-null    object \n",
            " 3   age                      590 non-null    int64  \n",
            " 4   sex                      590 non-null    object \n",
            " 5   diagnosis                590 non-null    int64  \n",
            " 6   stage                    199 non-null    object \n",
            " 7   benign_sample_diagnosis  208 non-null    object \n",
            " 8   plasma_CA19_9            350 non-null    float64\n",
            " 9   creatinine               590 non-null    float64\n",
            " 10  LYVE1                    590 non-null    float64\n",
            " 11  REG1B                    590 non-null    float64\n",
            " 12  TFF1                     590 non-null    float64\n",
            " 13  REG1A                    306 non-null    float64\n",
            "dtypes: float64(6), int64(2), object(6)\n",
            "memory usage: 64.7+ KB\n"
          ]
        }
      ]
    },
    {
      "cell_type": "code",
      "source": [
        "df.describe()"
      ],
      "metadata": {
        "colab": {
          "base_uri": "https://localhost:8080/",
          "height": 300
        },
        "id": "CYqDrmvLamBV",
        "outputId": "56a2d34a-b5ec-4637-f801-689119ea4ab0"
      },
      "execution_count": 10,
      "outputs": [
        {
          "output_type": "execute_result",
          "data": {
            "text/plain": [
              "              age   diagnosis  plasma_CA19_9  creatinine       LYVE1  \\\n",
              "count  590.000000  590.000000     350.000000  590.000000  590.000000   \n",
              "mean    59.079661    2.027119     654.002944    0.855383    3.063530   \n",
              "std     13.109520    0.804873    2430.317642    0.639028    3.438796   \n",
              "min     26.000000    1.000000       0.000000    0.056550    0.000129   \n",
              "25%     50.000000    1.000000       8.000000    0.373230    0.167179   \n",
              "50%     60.000000    2.000000      26.500000    0.723840    1.649862   \n",
              "75%     69.000000    3.000000     294.000000    1.139482    5.205037   \n",
              "max     89.000000    3.000000   31000.000000    4.116840   23.890323   \n",
              "\n",
              "             REG1B          TFF1         REG1A  \n",
              "count   590.000000    590.000000    306.000000  \n",
              "mean    111.774090    597.868722    735.281222  \n",
              "std     196.267110   1010.477245   1477.247724  \n",
              "min       0.001104      0.005293      0.000000  \n",
              "25%      10.757216     43.961000     80.692000  \n",
              "50%      34.303353    259.873974    208.538500  \n",
              "75%     122.741013    742.736000    649.000000  \n",
              "max    1403.897600  13344.300000  13200.000000  "
            ],
            "text/html": [
              "\n",
              "  <div id=\"df-e292a00c-71ea-4fb5-b232-89d0a472cdcc\">\n",
              "    <div class=\"colab-df-container\">\n",
              "      <div>\n",
              "<style scoped>\n",
              "    .dataframe tbody tr th:only-of-type {\n",
              "        vertical-align: middle;\n",
              "    }\n",
              "\n",
              "    .dataframe tbody tr th {\n",
              "        vertical-align: top;\n",
              "    }\n",
              "\n",
              "    .dataframe thead th {\n",
              "        text-align: right;\n",
              "    }\n",
              "</style>\n",
              "<table border=\"1\" class=\"dataframe\">\n",
              "  <thead>\n",
              "    <tr style=\"text-align: right;\">\n",
              "      <th></th>\n",
              "      <th>age</th>\n",
              "      <th>diagnosis</th>\n",
              "      <th>plasma_CA19_9</th>\n",
              "      <th>creatinine</th>\n",
              "      <th>LYVE1</th>\n",
              "      <th>REG1B</th>\n",
              "      <th>TFF1</th>\n",
              "      <th>REG1A</th>\n",
              "    </tr>\n",
              "  </thead>\n",
              "  <tbody>\n",
              "    <tr>\n",
              "      <th>count</th>\n",
              "      <td>590.000000</td>\n",
              "      <td>590.000000</td>\n",
              "      <td>350.000000</td>\n",
              "      <td>590.000000</td>\n",
              "      <td>590.000000</td>\n",
              "      <td>590.000000</td>\n",
              "      <td>590.000000</td>\n",
              "      <td>306.000000</td>\n",
              "    </tr>\n",
              "    <tr>\n",
              "      <th>mean</th>\n",
              "      <td>59.079661</td>\n",
              "      <td>2.027119</td>\n",
              "      <td>654.002944</td>\n",
              "      <td>0.855383</td>\n",
              "      <td>3.063530</td>\n",
              "      <td>111.774090</td>\n",
              "      <td>597.868722</td>\n",
              "      <td>735.281222</td>\n",
              "    </tr>\n",
              "    <tr>\n",
              "      <th>std</th>\n",
              "      <td>13.109520</td>\n",
              "      <td>0.804873</td>\n",
              "      <td>2430.317642</td>\n",
              "      <td>0.639028</td>\n",
              "      <td>3.438796</td>\n",
              "      <td>196.267110</td>\n",
              "      <td>1010.477245</td>\n",
              "      <td>1477.247724</td>\n",
              "    </tr>\n",
              "    <tr>\n",
              "      <th>min</th>\n",
              "      <td>26.000000</td>\n",
              "      <td>1.000000</td>\n",
              "      <td>0.000000</td>\n",
              "      <td>0.056550</td>\n",
              "      <td>0.000129</td>\n",
              "      <td>0.001104</td>\n",
              "      <td>0.005293</td>\n",
              "      <td>0.000000</td>\n",
              "    </tr>\n",
              "    <tr>\n",
              "      <th>25%</th>\n",
              "      <td>50.000000</td>\n",
              "      <td>1.000000</td>\n",
              "      <td>8.000000</td>\n",
              "      <td>0.373230</td>\n",
              "      <td>0.167179</td>\n",
              "      <td>10.757216</td>\n",
              "      <td>43.961000</td>\n",
              "      <td>80.692000</td>\n",
              "    </tr>\n",
              "    <tr>\n",
              "      <th>50%</th>\n",
              "      <td>60.000000</td>\n",
              "      <td>2.000000</td>\n",
              "      <td>26.500000</td>\n",
              "      <td>0.723840</td>\n",
              "      <td>1.649862</td>\n",
              "      <td>34.303353</td>\n",
              "      <td>259.873974</td>\n",
              "      <td>208.538500</td>\n",
              "    </tr>\n",
              "    <tr>\n",
              "      <th>75%</th>\n",
              "      <td>69.000000</td>\n",
              "      <td>3.000000</td>\n",
              "      <td>294.000000</td>\n",
              "      <td>1.139482</td>\n",
              "      <td>5.205037</td>\n",
              "      <td>122.741013</td>\n",
              "      <td>742.736000</td>\n",
              "      <td>649.000000</td>\n",
              "    </tr>\n",
              "    <tr>\n",
              "      <th>max</th>\n",
              "      <td>89.000000</td>\n",
              "      <td>3.000000</td>\n",
              "      <td>31000.000000</td>\n",
              "      <td>4.116840</td>\n",
              "      <td>23.890323</td>\n",
              "      <td>1403.897600</td>\n",
              "      <td>13344.300000</td>\n",
              "      <td>13200.000000</td>\n",
              "    </tr>\n",
              "  </tbody>\n",
              "</table>\n",
              "</div>\n",
              "      <button class=\"colab-df-convert\" onclick=\"convertToInteractive('df-e292a00c-71ea-4fb5-b232-89d0a472cdcc')\"\n",
              "              title=\"Convert this dataframe to an interactive table.\"\n",
              "              style=\"display:none;\">\n",
              "        \n",
              "  <svg xmlns=\"http://www.w3.org/2000/svg\" height=\"24px\"viewBox=\"0 0 24 24\"\n",
              "       width=\"24px\">\n",
              "    <path d=\"M0 0h24v24H0V0z\" fill=\"none\"/>\n",
              "    <path d=\"M18.56 5.44l.94 2.06.94-2.06 2.06-.94-2.06-.94-.94-2.06-.94 2.06-2.06.94zm-11 1L8.5 8.5l.94-2.06 2.06-.94-2.06-.94L8.5 2.5l-.94 2.06-2.06.94zm10 10l.94 2.06.94-2.06 2.06-.94-2.06-.94-.94-2.06-.94 2.06-2.06.94z\"/><path d=\"M17.41 7.96l-1.37-1.37c-.4-.4-.92-.59-1.43-.59-.52 0-1.04.2-1.43.59L10.3 9.45l-7.72 7.72c-.78.78-.78 2.05 0 2.83L4 21.41c.39.39.9.59 1.41.59.51 0 1.02-.2 1.41-.59l7.78-7.78 2.81-2.81c.8-.78.8-2.07 0-2.86zM5.41 20L4 18.59l7.72-7.72 1.47 1.35L5.41 20z\"/>\n",
              "  </svg>\n",
              "      </button>\n",
              "      \n",
              "  <style>\n",
              "    .colab-df-container {\n",
              "      display:flex;\n",
              "      flex-wrap:wrap;\n",
              "      gap: 12px;\n",
              "    }\n",
              "\n",
              "    .colab-df-convert {\n",
              "      background-color: #E8F0FE;\n",
              "      border: none;\n",
              "      border-radius: 50%;\n",
              "      cursor: pointer;\n",
              "      display: none;\n",
              "      fill: #1967D2;\n",
              "      height: 32px;\n",
              "      padding: 0 0 0 0;\n",
              "      width: 32px;\n",
              "    }\n",
              "\n",
              "    .colab-df-convert:hover {\n",
              "      background-color: #E2EBFA;\n",
              "      box-shadow: 0px 1px 2px rgba(60, 64, 67, 0.3), 0px 1px 3px 1px rgba(60, 64, 67, 0.15);\n",
              "      fill: #174EA6;\n",
              "    }\n",
              "\n",
              "    [theme=dark] .colab-df-convert {\n",
              "      background-color: #3B4455;\n",
              "      fill: #D2E3FC;\n",
              "    }\n",
              "\n",
              "    [theme=dark] .colab-df-convert:hover {\n",
              "      background-color: #434B5C;\n",
              "      box-shadow: 0px 1px 3px 1px rgba(0, 0, 0, 0.15);\n",
              "      filter: drop-shadow(0px 1px 2px rgba(0, 0, 0, 0.3));\n",
              "      fill: #FFFFFF;\n",
              "    }\n",
              "  </style>\n",
              "\n",
              "      <script>\n",
              "        const buttonEl =\n",
              "          document.querySelector('#df-e292a00c-71ea-4fb5-b232-89d0a472cdcc button.colab-df-convert');\n",
              "        buttonEl.style.display =\n",
              "          google.colab.kernel.accessAllowed ? 'block' : 'none';\n",
              "\n",
              "        async function convertToInteractive(key) {\n",
              "          const element = document.querySelector('#df-e292a00c-71ea-4fb5-b232-89d0a472cdcc');\n",
              "          const dataTable =\n",
              "            await google.colab.kernel.invokeFunction('convertToInteractive',\n",
              "                                                     [key], {});\n",
              "          if (!dataTable) return;\n",
              "\n",
              "          const docLinkHtml = 'Like what you see? Visit the ' +\n",
              "            '<a target=\"_blank\" href=https://colab.research.google.com/notebooks/data_table.ipynb>data table notebook</a>'\n",
              "            + ' to learn more about interactive tables.';\n",
              "          element.innerHTML = '';\n",
              "          dataTable['output_type'] = 'display_data';\n",
              "          await google.colab.output.renderOutput(dataTable, element);\n",
              "          const docLink = document.createElement('div');\n",
              "          docLink.innerHTML = docLinkHtml;\n",
              "          element.appendChild(docLink);\n",
              "        }\n",
              "      </script>\n",
              "    </div>\n",
              "  </div>\n",
              "  "
            ]
          },
          "metadata": {},
          "execution_count": 10
        }
      ]
    },
    {
      "cell_type": "markdown",
      "source": [
        "##Visualisasi Data"
      ],
      "metadata": {
        "id": "HAsWpXFpawM9"
      }
    },
    {
      "cell_type": "markdown",
      "source": [
        "**Distribusi Kolom Kategorial**"
      ],
      "metadata": {
        "id": "jHS5rokmjYdi"
      }
    },
    {
      "cell_type": "code",
      "source": [
        "categorical_fitur = ['diagnosis']\n",
        "numerical_fitur =['age', 'plasma_CA19-9', 'creatinine', 'LYVE1', 'REG1B', 'TEF1', 'REG1A']\n",
        "fitur = categorical_fitur[0]\n",
        "count = df[fitur].value_counts()\n",
        "persen = 100*df[fitur].value_counts(normalize=True)\n",
        "data = pd.DataFrame({'Total Sampel':count,\n",
        "                     'Persentase':persen.round(1)})\n",
        "print (data)\n",
        "count.plot(kind='bar', title='Hasil Diagnosis');"
      ],
      "metadata": {
        "colab": {
          "base_uri": "https://localhost:8080/",
          "height": 350
        },
        "id": "IPM7FvPeaumD",
        "outputId": "eaa1bdfd-0d21-4e9e-8965-78faa4e77ebd"
      },
      "execution_count": 11,
      "outputs": [
        {
          "output_type": "stream",
          "name": "stdout",
          "text": [
            "   Total Sampel  Persentase\n",
            "2           208        35.3\n",
            "3           199        33.7\n",
            "1           183        31.0\n"
          ]
        },
        {
          "output_type": "display_data",
          "data": {
            "text/plain": [
              "<Figure size 432x288 with 1 Axes>"
            ],
            "image/png": "[encoded data removed]"
          },
          "metadata": {
            "needs_background": "light"
          }
        }
      ]
    },
    {
      "cell_type": "markdown",
      "source": [
        "Pada Hasil diagnosis, jika dilihat terdapat 3 jenis nilai. 3 jenis nilai tersebut merepresentasikan kondisi pankreas manusia. Dalam hal ini, nilai 1 merepresentasikan bahwa kondisi pankreas sehat, nilai 2 merepresentasikan bahwa kondisi pankreas non kanker dan nilai 3 merepresentasikan bahwa kondisi kanker pankreas(pasien dengan adenokarsinoma duktus pankreas)."
      ],
      "metadata": {
        "id": "JCViGCSccUbS"
      }
    },
    {
      "cell_type": "markdown",
      "source": [
        "**Distribusi Kolom Numerikal**"
      ],
      "metadata": {
        "id": "_vnere25jcEk"
      }
    },
    {
      "cell_type": "code",
      "source": [
        "df.hist(bins=100,\n",
        "        figsize=(20,20))\n",
        "plt.show()"
      ],
      "metadata": {
        "colab": {
          "base_uri": "https://localhost:8080/",
          "height": 1000
        },
        "id": "neQRvOg1atqw",
        "outputId": "b526e19d-b848-45bc-ddf7-3e2f769e438a"
      },
      "execution_count": 12,
      "outputs": [
        {
          "output_type": "display_data",
          "data": {
            "text/plain": [
              "<Figure size 1440x1440 with 9 Axes>"
            ],
            "image/png": "[encoded data removed]"
          },
          "metadata": {
            "needs_background": "light"
          }
        }
      ]
    },
    {
      "cell_type": "markdown",
      "source": [
        "**Correlation Matrix**"
      ],
      "metadata": {
        "id": "U6xOcAqejfiI"
      }
    },
    {
      "cell_type": "code",
      "source": [
        "df.corr()\n",
        "plt.figure(figsize=(20,10))\n",
        "korelasi_matrix = df.corr().round(1)\n",
        "sns.heatmap(korelasi_matrix,\n",
        "            annot=True,\n",
        "            linewidths=0.5,\n",
        "            fmt='.2f',\n",
        "            cmap='YlGnBu')\n",
        "plt.title(\"Correlation Matrix for Numerix Feature\", size=30)"
      ],
      "metadata": {
        "colab": {
          "base_uri": "https://localhost:8080/",
          "height": 639
        },
        "id": "ZBH8VVneeNQ9",
        "outputId": "4dd9addf-9dba-4f43-8c4d-c19040db68b8"
      },
      "execution_count": 13,
      "outputs": [
        {
          "output_type": "execute_result",
          "data": {
            "text/plain": [
              "Text(0.5, 1.0, 'Correlation Matrix for Numerix Feature')"
            ]
          },
          "metadata": {},
          "execution_count": 13
        },
        {
          "output_type": "display_data",
          "data": {
            "text/plain": [
              "<Figure size 1440x720 with 2 Axes>"
            ],
            "image/png": "[encoded data removed]"
          },
          "metadata": {
            "needs_background": "light"
          }
        }
      ]
    },
    {
      "cell_type": "markdown",
      "source": [
        "##Data Preparation"
      ],
      "metadata": {
        "id": "z-PELZv3fFAB"
      }
    },
    {
      "cell_type": "markdown",
      "source": [
        "Melakukan drop kolom pada fitur sample_id, patient_cohort, sample_origin, stage, dan benign_sample_diagnosis. Hal ini dilakukan karena proyek ini berfokus pada deteksi pasien terkana penyakit kanker pankreas atau tidak, sehingga beberapa fitur tersebut tidak diperlukan."
      ],
      "metadata": {
        "id": "2_0yYBebjl6H"
      }
    },
    {
      "cell_type": "code",
      "source": [
        "df = df.drop(columns=['sample_id', 'patient_cohort', 'sample_origin', 'stage', 'benign_sample_diagnosis'])\n",
        "df.head()"
      ],
      "metadata": {
        "colab": {
          "base_uri": "https://localhost:8080/",
          "height": 206
        },
        "id": "N4Sb66kv7C7B",
        "outputId": "3a027d64-1e87-4540-d017-f321a50b20e5"
      },
      "execution_count": 14,
      "outputs": [
        {
          "output_type": "execute_result",
          "data": {
            "text/plain": [
              "   age sex  diagnosis  plasma_CA19_9  creatinine     LYVE1      REG1B  \\\n",
              "0   33   F          1           11.7     1.83222  0.893219   52.94884   \n",
              "1   81   F          1            NaN     0.97266  2.037585   94.46703   \n",
              "2   51   M          1            7.0     0.78039  0.145589  102.36600   \n",
              "3   61   M          1            8.0     0.70122  0.002805   60.57900   \n",
              "4   62   M          1            9.0     0.21489  0.000860   65.54000   \n",
              "\n",
              "         TFF1     REG1A  \n",
              "0  654.282174  1262.000  \n",
              "1  209.488250   228.407  \n",
              "2  461.141000       NaN  \n",
              "3  142.950000       NaN  \n",
              "4   41.088000       NaN  "
            ],
            "text/html": [
              "\n",
              "  <div id=\"df-e5dcbec2-9481-4c84-b977-0b0f8326af03\">\n",
              "    <div class=\"colab-df-container\">\n",
              "      <div>\n",
              "<style scoped>\n",
              "    .dataframe tbody tr th:only-of-type {\n",
              "        vertical-align: middle;\n",
              "    }\n",
              "\n",
              "    .dataframe tbody tr th {\n",
              "        vertical-align: top;\n",
              "    }\n",
              "\n",
              "    .dataframe thead th {\n",
              "        text-align: right;\n",
              "    }\n",
              "</style>\n",
              "<table border=\"1\" class=\"dataframe\">\n",
              "  <thead>\n",
              "    <tr style=\"text-align: right;\">\n",
              "      <th></th>\n",
              "      <th>age</th>\n",
              "      <th>sex</th>\n",
              "      <th>diagnosis</th>\n",
              "      <th>plasma_CA19_9</th>\n",
              "      <th>creatinine</th>\n",
              "      <th>LYVE1</th>\n",
              "      <th>REG1B</th>\n",
              "      <th>TFF1</th>\n",
              "      <th>REG1A</th>\n",
              "    </tr>\n",
              "  </thead>\n",
              "  <tbody>\n",
              "    <tr>\n",
              "      <th>0</th>\n",
              "      <td>33</td>\n",
              "      <td>F</td>\n",
              "      <td>1</td>\n",
              "      <td>11.7</td>\n",
              "      <td>1.83222</td>\n",
              "      <td>0.893219</td>\n",
              "      <td>52.94884</td>\n",
              "      <td>654.282174</td>\n",
              "      <td>1262.000</td>\n",
              "    </tr>\n",
              "    <tr>\n",
              "      <th>1</th>\n",
              "      <td>81</td>\n",
              "      <td>F</td>\n",
              "      <td>1</td>\n",
              "      <td>NaN</td>\n",
              "      <td>0.97266</td>\n",
              "      <td>2.037585</td>\n",
              "      <td>94.46703</td>\n",
              "      <td>209.488250</td>\n",
              "      <td>228.407</td>\n",
              "    </tr>\n",
              "    <tr>\n",
              "      <th>2</th>\n",
              "      <td>51</td>\n",
              "      <td>M</td>\n",
              "      <td>1</td>\n",
              "      <td>7.0</td>\n",
              "      <td>0.78039</td>\n",
              "      <td>0.145589</td>\n",
              "      <td>102.36600</td>\n",
              "      <td>461.141000</td>\n",
              "      <td>NaN</td>\n",
              "    </tr>\n",
              "    <tr>\n",
              "      <th>3</th>\n",
              "      <td>61</td>\n",
              "      <td>M</td>\n",
              "      <td>1</td>\n",
              "      <td>8.0</td>\n",
              "      <td>0.70122</td>\n",
              "      <td>0.002805</td>\n",
              "      <td>60.57900</td>\n",
              "      <td>142.950000</td>\n",
              "      <td>NaN</td>\n",
              "    </tr>\n",
              "    <tr>\n",
              "      <th>4</th>\n",
              "      <td>62</td>\n",
              "      <td>M</td>\n",
              "      <td>1</td>\n",
              "      <td>9.0</td>\n",
              "      <td>0.21489</td>\n",
              "      <td>0.000860</td>\n",
              "      <td>65.54000</td>\n",
              "      <td>41.088000</td>\n",
              "      <td>NaN</td>\n",
              "    </tr>\n",
              "  </tbody>\n",
              "</table>\n",
              "</div>\n",
              "      <button class=\"colab-df-convert\" onclick=\"convertToInteractive('df-e5dcbec2-9481-4c84-b977-0b0f8326af03')\"\n",
              "              title=\"Convert this dataframe to an interactive table.\"\n",
              "              style=\"display:none;\">\n",
              "        \n",
              "  <svg xmlns=\"http://www.w3.org/2000/svg\" height=\"24px\"viewBox=\"0 0 24 24\"\n",
              "       width=\"24px\">\n",
              "    <path d=\"M0 0h24v24H0V0z\" fill=\"none\"/>\n",
              "    <path d=\"M18.56 5.44l.94 2.06.94-2.06 2.06-.94-2.06-.94-.94-2.06-.94 2.06-2.06.94zm-11 1L8.5 8.5l.94-2.06 2.06-.94-2.06-.94L8.5 2.5l-.94 2.06-2.06.94zm10 10l.94 2.06.94-2.06 2.06-.94-2.06-.94-.94-2.06-.94 2.06-2.06.94z\"/><path d=\"M17.41 7.96l-1.37-1.37c-.4-.4-.92-.59-1.43-.59-.52 0-1.04.2-1.43.59L10.3 9.45l-7.72 7.72c-.78.78-.78 2.05 0 2.83L4 21.41c.39.39.9.59 1.41.59.51 0 1.02-.2 1.41-.59l7.78-7.78 2.81-2.81c.8-.78.8-2.07 0-2.86zM5.41 20L4 18.59l7.72-7.72 1.47 1.35L5.41 20z\"/>\n",
              "  </svg>\n",
              "      </button>\n",
              "      \n",
              "  <style>\n",
              "    .colab-df-container {\n",
              "      display:flex;\n",
              "      flex-wrap:wrap;\n",
              "      gap: 12px;\n",
              "    }\n",
              "\n",
              "    .colab-df-convert {\n",
              "      background-color: #E8F0FE;\n",
              "      border: none;\n",
              "      border-radius: 50%;\n",
              "      cursor: pointer;\n",
              "      display: none;\n",
              "      fill: #1967D2;\n",
              "      height: 32px;\n",
              "      padding: 0 0 0 0;\n",
              "      width: 32px;\n",
              "    }\n",
              "\n",
              "    .colab-df-convert:hover {\n",
              "      background-color: #E2EBFA;\n",
              "      box-shadow: 0px 1px 2px rgba(60, 64, 67, 0.3), 0px 1px 3px 1px rgba(60, 64, 67, 0.15);\n",
              "      fill: #174EA6;\n",
              "    }\n",
              "\n",
              "    [theme=dark] .colab-df-convert {\n",
              "      background-color: #3B4455;\n",
              "      fill: #D2E3FC;\n",
              "    }\n",
              "\n",
              "    [theme=dark] .colab-df-convert:hover {\n",
              "      background-color: #434B5C;\n",
              "      box-shadow: 0px 1px 3px 1px rgba(0, 0, 0, 0.15);\n",
              "      filter: drop-shadow(0px 1px 2px rgba(0, 0, 0, 0.3));\n",
              "      fill: #FFFFFF;\n",
              "    }\n",
              "  </style>\n",
              "\n",
              "      <script>\n",
              "        const buttonEl =\n",
              "          document.querySelector('#df-e5dcbec2-9481-4c84-b977-0b0f8326af03 button.colab-df-convert');\n",
              "        buttonEl.style.display =\n",
              "          google.colab.kernel.accessAllowed ? 'block' : 'none';\n",
              "\n",
              "        async function convertToInteractive(key) {\n",
              "          const element = document.querySelector('#df-e5dcbec2-9481-4c84-b977-0b0f8326af03');\n",
              "          const dataTable =\n",
              "            await google.colab.kernel.invokeFunction('convertToInteractive',\n",
              "                                                     [key], {});\n",
              "          if (!dataTable) return;\n",
              "\n",
              "          const docLinkHtml = 'Like what you see? Visit the ' +\n",
              "            '<a target=\"_blank\" href=https://colab.research.google.com/notebooks/data_table.ipynb>data table notebook</a>'\n",
              "            + ' to learn more about interactive tables.';\n",
              "          element.innerHTML = '';\n",
              "          dataTable['output_type'] = 'display_data';\n",
              "          await google.colab.output.renderOutput(dataTable, element);\n",
              "          const docLink = document.createElement('div');\n",
              "          docLink.innerHTML = docLinkHtml;\n",
              "          element.appendChild(docLink);\n",
              "        }\n",
              "      </script>\n",
              "    </div>\n",
              "  </div>\n",
              "  "
            ]
          },
          "metadata": {},
          "execution_count": 14
        }
      ]
    },
    {
      "cell_type": "markdown",
      "source": [
        "Melakukan penanganan missing value terhadap dataset yang digunakan. Hal ini dilakukan, karena masih terdapat banyak missing value pada kolom/fitur dataset sehingga harus diatas dengan melakukan perhitungan nilai rata-rata(mean) pada kolom yang bermasalah."
      ],
      "metadata": {
        "id": "Mk5Qzkxejodw"
      }
    },
    {
      "cell_type": "code",
      "source": [
        "for a in df[:]:\n",
        "  if a!='sex':\n",
        "    df[a] = df[a].fillna(df[a].mean())\n",
        "df.head()"
      ],
      "metadata": {
        "colab": {
          "base_uri": "https://localhost:8080/",
          "height": 206
        },
        "id": "VJZ3DW6Z7Dkh",
        "outputId": "e572cded-c67c-44f8-a665-df1e29624250"
      },
      "execution_count": 15,
      "outputs": [
        {
          "output_type": "execute_result",
          "data": {
            "text/plain": [
              "   age sex  diagnosis  plasma_CA19_9  creatinine     LYVE1      REG1B  \\\n",
              "0   33   F          1      11.700000     1.83222  0.893219   52.94884   \n",
              "1   81   F          1     654.002944     0.97266  2.037585   94.46703   \n",
              "2   51   M          1       7.000000     0.78039  0.145589  102.36600   \n",
              "3   61   M          1       8.000000     0.70122  0.002805   60.57900   \n",
              "4   62   M          1       9.000000     0.21489  0.000860   65.54000   \n",
              "\n",
              "         TFF1        REG1A  \n",
              "0  654.282174  1262.000000  \n",
              "1  209.488250   228.407000  \n",
              "2  461.141000   735.281222  \n",
              "3  142.950000   735.281222  \n",
              "4   41.088000   735.281222  "
            ],
            "text/html": [
              "\n",
              "  <div id=\"df-a773b1ab-70c0-4384-8139-dd8b9a718ea0\">\n",
              "    <div class=\"colab-df-container\">\n",
              "      <div>\n",
              "<style scoped>\n",
              "    .dataframe tbody tr th:only-of-type {\n",
              "        vertical-align: middle;\n",
              "    }\n",
              "\n",
              "    .dataframe tbody tr th {\n",
              "        vertical-align: top;\n",
              "    }\n",
              "\n",
              "    .dataframe thead th {\n",
              "        text-align: right;\n",
              "    }\n",
              "</style>\n",
              "<table border=\"1\" class=\"dataframe\">\n",
              "  <thead>\n",
              "    <tr style=\"text-align: right;\">\n",
              "      <th></th>\n",
              "      <th>age</th>\n",
              "      <th>sex</th>\n",
              "      <th>diagnosis</th>\n",
              "      <th>plasma_CA19_9</th>\n",
              "      <th>creatinine</th>\n",
              "      <th>LYVE1</th>\n",
              "      <th>REG1B</th>\n",
              "      <th>TFF1</th>\n",
              "      <th>REG1A</th>\n",
              "    </tr>\n",
              "  </thead>\n",
              "  <tbody>\n",
              "    <tr>\n",
              "      <th>0</th>\n",
              "      <td>33</td>\n",
              "      <td>F</td>\n",
              "      <td>1</td>\n",
              "      <td>11.700000</td>\n",
              "      <td>1.83222</td>\n",
              "      <td>0.893219</td>\n",
              "      <td>52.94884</td>\n",
              "      <td>654.282174</td>\n",
              "      <td>1262.000000</td>\n",
              "    </tr>\n",
              "    <tr>\n",
              "      <th>1</th>\n",
              "      <td>81</td>\n",
              "      <td>F</td>\n",
              "      <td>1</td>\n",
              "      <td>654.002944</td>\n",
              "      <td>0.97266</td>\n",
              "      <td>2.037585</td>\n",
              "      <td>94.46703</td>\n",
              "      <td>209.488250</td>\n",
              "      <td>228.407000</td>\n",
              "    </tr>\n",
              "    <tr>\n",
              "      <th>2</th>\n",
              "      <td>51</td>\n",
              "      <td>M</td>\n",
              "      <td>1</td>\n",
              "      <td>7.000000</td>\n",
              "      <td>0.78039</td>\n",
              "      <td>0.145589</td>\n",
              "      <td>102.36600</td>\n",
              "      <td>461.141000</td>\n",
              "      <td>735.281222</td>\n",
              "    </tr>\n",
              "    <tr>\n",
              "      <th>3</th>\n",
              "      <td>61</td>\n",
              "      <td>M</td>\n",
              "      <td>1</td>\n",
              "      <td>8.000000</td>\n",
              "      <td>0.70122</td>\n",
              "      <td>0.002805</td>\n",
              "      <td>60.57900</td>\n",
              "      <td>142.950000</td>\n",
              "      <td>735.281222</td>\n",
              "    </tr>\n",
              "    <tr>\n",
              "      <th>4</th>\n",
              "      <td>62</td>\n",
              "      <td>M</td>\n",
              "      <td>1</td>\n",
              "      <td>9.000000</td>\n",
              "      <td>0.21489</td>\n",
              "      <td>0.000860</td>\n",
              "      <td>65.54000</td>\n",
              "      <td>41.088000</td>\n",
              "      <td>735.281222</td>\n",
              "    </tr>\n",
              "  </tbody>\n",
              "</table>\n",
              "</div>\n",
              "      <button class=\"colab-df-convert\" onclick=\"convertToInteractive('df-a773b1ab-70c0-4384-8139-dd8b9a718ea0')\"\n",
              "              title=\"Convert this dataframe to an interactive table.\"\n",
              "              style=\"display:none;\">\n",
              "        \n",
              "  <svg xmlns=\"http://www.w3.org/2000/svg\" height=\"24px\"viewBox=\"0 0 24 24\"\n",
              "       width=\"24px\">\n",
              "    <path d=\"M0 0h24v24H0V0z\" fill=\"none\"/>\n",
              "    <path d=\"M18.56 5.44l.94 2.06.94-2.06 2.06-.94-2.06-.94-.94-2.06-.94 2.06-2.06.94zm-11 1L8.5 8.5l.94-2.06 2.06-.94-2.06-.94L8.5 2.5l-.94 2.06-2.06.94zm10 10l.94 2.06.94-2.06 2.06-.94-2.06-.94-.94-2.06-.94 2.06-2.06.94z\"/><path d=\"M17.41 7.96l-1.37-1.37c-.4-.4-.92-.59-1.43-.59-.52 0-1.04.2-1.43.59L10.3 9.45l-7.72 7.72c-.78.78-.78 2.05 0 2.83L4 21.41c.39.39.9.59 1.41.59.51 0 1.02-.2 1.41-.59l7.78-7.78 2.81-2.81c.8-.78.8-2.07 0-2.86zM5.41 20L4 18.59l7.72-7.72 1.47 1.35L5.41 20z\"/>\n",
              "  </svg>\n",
              "      </button>\n",
              "      \n",
              "  <style>\n",
              "    .colab-df-container {\n",
              "      display:flex;\n",
              "      flex-wrap:wrap;\n",
              "      gap: 12px;\n",
              "    }\n",
              "\n",
              "    .colab-df-convert {\n",
              "      background-color: #E8F0FE;\n",
              "      border: none;\n",
              "      border-radius: 50%;\n",
              "      cursor: pointer;\n",
              "      display: none;\n",
              "      fill: #1967D2;\n",
              "      height: 32px;\n",
              "      padding: 0 0 0 0;\n",
              "      width: 32px;\n",
              "    }\n",
              "\n",
              "    .colab-df-convert:hover {\n",
              "      background-color: #E2EBFA;\n",
              "      box-shadow: 0px 1px 2px rgba(60, 64, 67, 0.3), 0px 1px 3px 1px rgba(60, 64, 67, 0.15);\n",
              "      fill: #174EA6;\n",
              "    }\n",
              "\n",
              "    [theme=dark] .colab-df-convert {\n",
              "      background-color: #3B4455;\n",
              "      fill: #D2E3FC;\n",
              "    }\n",
              "\n",
              "    [theme=dark] .colab-df-convert:hover {\n",
              "      background-color: #434B5C;\n",
              "      box-shadow: 0px 1px 3px 1px rgba(0, 0, 0, 0.15);\n",
              "      filter: drop-shadow(0px 1px 2px rgba(0, 0, 0, 0.3));\n",
              "      fill: #FFFFFF;\n",
              "    }\n",
              "  </style>\n",
              "\n",
              "      <script>\n",
              "        const buttonEl =\n",
              "          document.querySelector('#df-a773b1ab-70c0-4384-8139-dd8b9a718ea0 button.colab-df-convert');\n",
              "        buttonEl.style.display =\n",
              "          google.colab.kernel.accessAllowed ? 'block' : 'none';\n",
              "\n",
              "        async function convertToInteractive(key) {\n",
              "          const element = document.querySelector('#df-a773b1ab-70c0-4384-8139-dd8b9a718ea0');\n",
              "          const dataTable =\n",
              "            await google.colab.kernel.invokeFunction('convertToInteractive',\n",
              "                                                     [key], {});\n",
              "          if (!dataTable) return;\n",
              "\n",
              "          const docLinkHtml = 'Like what you see? Visit the ' +\n",
              "            '<a target=\"_blank\" href=https://colab.research.google.com/notebooks/data_table.ipynb>data table notebook</a>'\n",
              "            + ' to learn more about interactive tables.';\n",
              "          element.innerHTML = '';\n",
              "          dataTable['output_type'] = 'display_data';\n",
              "          await google.colab.output.renderOutput(dataTable, element);\n",
              "          const docLink = document.createElement('div');\n",
              "          docLink.innerHTML = docLinkHtml;\n",
              "          element.appendChild(docLink);\n",
              "        }\n",
              "      </script>\n",
              "    </div>\n",
              "  </div>\n",
              "  "
            ]
          },
          "metadata": {},
          "execution_count": 15
        }
      ]
    },
    {
      "cell_type": "markdown",
      "source": [
        "Melakukan pengecekan terhadap dataset yang telah di drop dan telah dilakukan penanganan missing value. Pengecekan tersebut dilakukan dengan menggunakan isnull().sum()"
      ],
      "metadata": {
        "id": "brcgxtK7jrS2"
      }
    },
    {
      "cell_type": "code",
      "source": [
        "df.isnull().sum()"
      ],
      "metadata": {
        "colab": {
          "base_uri": "https://localhost:8080/"
        },
        "id": "JERld-pY7I-8",
        "outputId": "018c95f2-2188-4179-9fc9-76c0e1d9be18"
      },
      "execution_count": 16,
      "outputs": [
        {
          "output_type": "execute_result",
          "data": {
            "text/plain": [
              "age              0\n",
              "sex              0\n",
              "diagnosis        0\n",
              "plasma_CA19_9    0\n",
              "creatinine       0\n",
              "LYVE1            0\n",
              "REG1B            0\n",
              "TFF1             0\n",
              "REG1A            0\n",
              "dtype: int64"
            ]
          },
          "metadata": {},
          "execution_count": 16
        }
      ]
    },
    {
      "cell_type": "markdown",
      "source": [
        "**Data Unique**"
      ],
      "metadata": {
        "id": "OHDucgdofSFs"
      }
    },
    {
      "cell_type": "markdown",
      "source": [
        "Melakukan pengecekan data unique, agar mempermudah proses analisis"
      ],
      "metadata": {
        "id": "zGhIlK7Hjt9Q"
      }
    },
    {
      "cell_type": "code",
      "source": [
        "df['diagnosis'].unique()"
      ],
      "metadata": {
        "colab": {
          "base_uri": "https://localhost:8080/"
        },
        "id": "wL_VvBukfHuw",
        "outputId": "583307de-a941-4104-eeda-5a4f8b1f9842"
      },
      "execution_count": 17,
      "outputs": [
        {
          "output_type": "execute_result",
          "data": {
            "text/plain": [
              "array([1, 2, 3])"
            ]
          },
          "metadata": {},
          "execution_count": 17
        }
      ]
    },
    {
      "cell_type": "markdown",
      "source": [
        "**Mapping Diagnosis**"
      ],
      "metadata": {
        "id": "x6Pyaqf0fbDO"
      }
    },
    {
      "cell_type": "markdown",
      "source": [
        "Melakukan mapping/replace terhadap kolom diagnosis dari type object ke numerik agar bisa dibaca mesin. Oleh karena itu, pada proyek ini nilainya akan diubah dan hanya akan digolongkan ke 2 nilai yaitu 0 sebagai indikator bahwa bukan penderita kanker dan 1 sebagai indikator bahwa pasien terkena kanker pankreas."
      ],
      "metadata": {
        "id": "cLni6cOKjyJ8"
      }
    },
    {
      "cell_type": "code",
      "source": [
        "df['diagnosis'].replace([1,2,3],\n",
        "                        [0,0,1],\n",
        "                        inplace=True)\n",
        "df"
      ],
      "metadata": {
        "colab": {
          "base_uri": "https://localhost:8080/",
          "height": 423
        },
        "id": "uqeDtnvJfkYB",
        "outputId": "38c6b05a-2e35-48fc-a368-d21335fc3b96"
      },
      "execution_count": 18,
      "outputs": [
        {
          "output_type": "execute_result",
          "data": {
            "text/plain": [
              "     age sex  diagnosis  plasma_CA19_9  creatinine     LYVE1       REG1B  \\\n",
              "0     33   F          0      11.700000     1.83222  0.893219   52.948840   \n",
              "1     81   F          0     654.002944     0.97266  2.037585   94.467030   \n",
              "2     51   M          0       7.000000     0.78039  0.145589  102.366000   \n",
              "3     61   M          0       8.000000     0.70122  0.002805   60.579000   \n",
              "4     62   M          0       9.000000     0.21489  0.000860   65.540000   \n",
              "..   ...  ..        ...            ...         ...       ...         ...   \n",
              "585   68   M          1     654.002944     0.52026  7.058209  156.241000   \n",
              "586   71   F          1     654.002944     0.85956  8.341207   16.915000   \n",
              "587   63   M          1     654.002944     1.36851  7.674707  289.701000   \n",
              "588   75   F          1     654.002944     1.33458  8.206777  205.930000   \n",
              "589   74   M          1    1488.000000     1.50423  8.200958  411.938275   \n",
              "\n",
              "            TFF1         REG1A  \n",
              "0     654.282174   1262.000000  \n",
              "1     209.488250    228.407000  \n",
              "2     461.141000    735.281222  \n",
              "3     142.950000    735.281222  \n",
              "4      41.088000    735.281222  \n",
              "..           ...           ...  \n",
              "585   525.178000    735.281222  \n",
              "586   245.947000    735.281222  \n",
              "587   537.286000    735.281222  \n",
              "588   722.523000    735.281222  \n",
              "589  2021.321078  13200.000000  \n",
              "\n",
              "[590 rows x 9 columns]"
            ],
            "text/html": [
              "\n",
              "  <div id=\"df-0d55c0d3-cd00-44a1-979a-0a95699fdf55\">\n",
              "    <div class=\"colab-df-container\">\n",
              "      <div>\n",
              "<style scoped>\n",
              "    .dataframe tbody tr th:only-of-type {\n",
              "        vertical-align: middle;\n",
              "    }\n",
              "\n",
              "    .dataframe tbody tr th {\n",
              "        vertical-align: top;\n",
              "    }\n",
              "\n",
              "    .dataframe thead th {\n",
              "        text-align: right;\n",
              "    }\n",
              "</style>\n",
              "<table border=\"1\" class=\"dataframe\">\n",
              "  <thead>\n",
              "    <tr style=\"text-align: right;\">\n",
              "      <th></th>\n",
              "      <th>age</th>\n",
              "      <th>sex</th>\n",
              "      <th>diagnosis</th>\n",
              "      <th>plasma_CA19_9</th>\n",
              "      <th>creatinine</th>\n",
              "      <th>LYVE1</th>\n",
              "      <th>REG1B</th>\n",
              "      <th>TFF1</th>\n",
              "      <th>REG1A</th>\n",
              "    </tr>\n",
              "  </thead>\n",
              "  <tbody>\n",
              "    <tr>\n",
              "      <th>0</th>\n",
              "      <td>33</td>\n",
              "      <td>F</td>\n",
              "      <td>0</td>\n",
              "      <td>11.700000</td>\n",
              "      <td>1.83222</td>\n",
              "      <td>0.893219</td>\n",
              "      <td>52.948840</td>\n",
              "      <td>654.282174</td>\n",
              "      <td>1262.000000</td>\n",
              "    </tr>\n",
              "    <tr>\n",
              "      <th>1</th>\n",
              "      <td>81</td>\n",
              "      <td>F</td>\n",
              "      <td>0</td>\n",
              "      <td>654.002944</td>\n",
              "      <td>0.97266</td>\n",
              "      <td>2.037585</td>\n",
              "      <td>94.467030</td>\n",
              "      <td>209.488250</td>\n",
              "      <td>228.407000</td>\n",
              "    </tr>\n",
              "    <tr>\n",
              "      <th>2</th>\n",
              "      <td>51</td>\n",
              "      <td>M</td>\n",
              "      <td>0</td>\n",
              "      <td>7.000000</td>\n",
              "      <td>0.78039</td>\n",
              "      <td>0.145589</td>\n",
              "      <td>102.366000</td>\n",
              "      <td>461.141000</td>\n",
              "      <td>735.281222</td>\n",
              "    </tr>\n",
              "    <tr>\n",
              "      <th>3</th>\n",
              "      <td>61</td>\n",
              "      <td>M</td>\n",
              "      <td>0</td>\n",
              "      <td>8.000000</td>\n",
              "      <td>0.70122</td>\n",
              "      <td>0.002805</td>\n",
              "      <td>60.579000</td>\n",
              "      <td>142.950000</td>\n",
              "      <td>735.281222</td>\n",
              "    </tr>\n",
              "    <tr>\n",
              "      <th>4</th>\n",
              "      <td>62</td>\n",
              "      <td>M</td>\n",
              "      <td>0</td>\n",
              "      <td>9.000000</td>\n",
              "      <td>0.21489</td>\n",
              "      <td>0.000860</td>\n",
              "      <td>65.540000</td>\n",
              "      <td>41.088000</td>\n",
              "      <td>735.281222</td>\n",
              "    </tr>\n",
              "    <tr>\n",
              "      <th>...</th>\n",
              "      <td>...</td>\n",
              "      <td>...</td>\n",
              "      <td>...</td>\n",
              "      <td>...</td>\n",
              "      <td>...</td>\n",
              "      <td>...</td>\n",
              "      <td>...</td>\n",
              "      <td>...</td>\n",
              "      <td>...</td>\n",
              "    </tr>\n",
              "    <tr>\n",
              "      <th>585</th>\n",
              "      <td>68</td>\n",
              "      <td>M</td>\n",
              "      <td>1</td>\n",
              "      <td>654.002944</td>\n",
              "      <td>0.52026</td>\n",
              "      <td>7.058209</td>\n",
              "      <td>156.241000</td>\n",
              "      <td>525.178000</td>\n",
              "      <td>735.281222</td>\n",
              "    </tr>\n",
              "    <tr>\n",
              "      <th>586</th>\n",
              "      <td>71</td>\n",
              "      <td>F</td>\n",
              "      <td>1</td>\n",
              "      <td>654.002944</td>\n",
              "      <td>0.85956</td>\n",
              "      <td>8.341207</td>\n",
              "      <td>16.915000</td>\n",
              "      <td>245.947000</td>\n",
              "      <td>735.281222</td>\n",
              "    </tr>\n",
              "    <tr>\n",
              "      <th>587</th>\n",
              "      <td>63</td>\n",
              "      <td>M</td>\n",
              "      <td>1</td>\n",
              "      <td>654.002944</td>\n",
              "      <td>1.36851</td>\n",
              "      <td>7.674707</td>\n",
              "      <td>289.701000</td>\n",
              "      <td>537.286000</td>\n",
              "      <td>735.281222</td>\n",
              "    </tr>\n",
              "    <tr>\n",
              "      <th>588</th>\n",
              "      <td>75</td>\n",
              "      <td>F</td>\n",
              "      <td>1</td>\n",
              "      <td>654.002944</td>\n",
              "      <td>1.33458</td>\n",
              "      <td>8.206777</td>\n",
              "      <td>205.930000</td>\n",
              "      <td>722.523000</td>\n",
              "      <td>735.281222</td>\n",
              "    </tr>\n",
              "    <tr>\n",
              "      <th>589</th>\n",
              "      <td>74</td>\n",
              "      <td>M</td>\n",
              "      <td>1</td>\n",
              "      <td>1488.000000</td>\n",
              "      <td>1.50423</td>\n",
              "      <td>8.200958</td>\n",
              "      <td>411.938275</td>\n",
              "      <td>2021.321078</td>\n",
              "      <td>13200.000000</td>\n",
              "    </tr>\n",
              "  </tbody>\n",
              "</table>\n",
              "<p>590 rows × 9 columns</p>\n",
              "</div>\n",
              "      <button class=\"colab-df-convert\" onclick=\"convertToInteractive('df-0d55c0d3-cd00-44a1-979a-0a95699fdf55')\"\n",
              "              title=\"Convert this dataframe to an interactive table.\"\n",
              "              style=\"display:none;\">\n",
              "        \n",
              "  <svg xmlns=\"http://www.w3.org/2000/svg\" height=\"24px\"viewBox=\"0 0 24 24\"\n",
              "       width=\"24px\">\n",
              "    <path d=\"M0 0h24v24H0V0z\" fill=\"none\"/>\n",
              "    <path d=\"M18.56 5.44l.94 2.06.94-2.06 2.06-.94-2.06-.94-.94-2.06-.94 2.06-2.06.94zm-11 1L8.5 8.5l.94-2.06 2.06-.94-2.06-.94L8.5 2.5l-.94 2.06-2.06.94zm10 10l.94 2.06.94-2.06 2.06-.94-2.06-.94-.94-2.06-.94 2.06-2.06.94z\"/><path d=\"M17.41 7.96l-1.37-1.37c-.4-.4-.92-.59-1.43-.59-.52 0-1.04.2-1.43.59L10.3 9.45l-7.72 7.72c-.78.78-.78 2.05 0 2.83L4 21.41c.39.39.9.59 1.41.59.51 0 1.02-.2 1.41-.59l7.78-7.78 2.81-2.81c.8-.78.8-2.07 0-2.86zM5.41 20L4 18.59l7.72-7.72 1.47 1.35L5.41 20z\"/>\n",
              "  </svg>\n",
              "      </button>\n",
              "      \n",
              "  <style>\n",
              "    .colab-df-container {\n",
              "      display:flex;\n",
              "      flex-wrap:wrap;\n",
              "      gap: 12px;\n",
              "    }\n",
              "\n",
              "    .colab-df-convert {\n",
              "      background-color: #E8F0FE;\n",
              "      border: none;\n",
              "      border-radius: 50%;\n",
              "      cursor: pointer;\n",
              "      display: none;\n",
              "      fill: #1967D2;\n",
              "      height: 32px;\n",
              "      padding: 0 0 0 0;\n",
              "      width: 32px;\n",
              "    }\n",
              "\n",
              "    .colab-df-convert:hover {\n",
              "      background-color: #E2EBFA;\n",
              "      box-shadow: 0px 1px 2px rgba(60, 64, 67, 0.3), 0px 1px 3px 1px rgba(60, 64, 67, 0.15);\n",
              "      fill: #174EA6;\n",
              "    }\n",
              "\n",
              "    [theme=dark] .colab-df-convert {\n",
              "      background-color: #3B4455;\n",
              "      fill: #D2E3FC;\n",
              "    }\n",
              "\n",
              "    [theme=dark] .colab-df-convert:hover {\n",
              "      background-color: #434B5C;\n",
              "      box-shadow: 0px 1px 3px 1px rgba(0, 0, 0, 0.15);\n",
              "      filter: drop-shadow(0px 1px 2px rgba(0, 0, 0, 0.3));\n",
              "      fill: #FFFFFF;\n",
              "    }\n",
              "  </style>\n",
              "\n",
              "      <script>\n",
              "        const buttonEl =\n",
              "          document.querySelector('#df-0d55c0d3-cd00-44a1-979a-0a95699fdf55 button.colab-df-convert');\n",
              "        buttonEl.style.display =\n",
              "          google.colab.kernel.accessAllowed ? 'block' : 'none';\n",
              "\n",
              "        async function convertToInteractive(key) {\n",
              "          const element = document.querySelector('#df-0d55c0d3-cd00-44a1-979a-0a95699fdf55');\n",
              "          const dataTable =\n",
              "            await google.colab.kernel.invokeFunction('convertToInteractive',\n",
              "                                                     [key], {});\n",
              "          if (!dataTable) return;\n",
              "\n",
              "          const docLinkHtml = 'Like what you see? Visit the ' +\n",
              "            '<a target=\"_blank\" href=https://colab.research.google.com/notebooks/data_table.ipynb>data table notebook</a>'\n",
              "            + ' to learn more about interactive tables.';\n",
              "          element.innerHTML = '';\n",
              "          dataTable['output_type'] = 'display_data';\n",
              "          await google.colab.output.renderOutput(dataTable, element);\n",
              "          const docLink = document.createElement('div');\n",
              "          docLink.innerHTML = docLinkHtml;\n",
              "          element.appendChild(docLink);\n",
              "        }\n",
              "      </script>\n",
              "    </div>\n",
              "  </div>\n",
              "  "
            ]
          },
          "metadata": {},
          "execution_count": 18
        }
      ]
    },
    {
      "cell_type": "markdown",
      "source": [
        "Melakukan proses one-hot-encoding, yang berfungsi untuk mengubah variabel kategorikal menjadi variabel numerikal."
      ],
      "metadata": {
        "id": "KaZgW6qBj0iH"
      }
    },
    {
      "cell_type": "code",
      "source": [
        "df = pd.get_dummies(df)\n",
        "df"
      ],
      "metadata": {
        "id": "wJQO5o7zgv6t",
        "colab": {
          "base_uri": "https://localhost:8080/",
          "height": 423
        },
        "outputId": "a5fe9d53-035b-423c-c0d4-033cc387a7e5"
      },
      "execution_count": 19,
      "outputs": [
        {
          "output_type": "execute_result",
          "data": {
            "text/plain": [
              "     age  diagnosis  plasma_CA19_9  creatinine     LYVE1       REG1B  \\\n",
              "0     33          0      11.700000     1.83222  0.893219   52.948840   \n",
              "1     81          0     654.002944     0.97266  2.037585   94.467030   \n",
              "2     51          0       7.000000     0.78039  0.145589  102.366000   \n",
              "3     61          0       8.000000     0.70122  0.002805   60.579000   \n",
              "4     62          0       9.000000     0.21489  0.000860   65.540000   \n",
              "..   ...        ...            ...         ...       ...         ...   \n",
              "585   68          1     654.002944     0.52026  7.058209  156.241000   \n",
              "586   71          1     654.002944     0.85956  8.341207   16.915000   \n",
              "587   63          1     654.002944     1.36851  7.674707  289.701000   \n",
              "588   75          1     654.002944     1.33458  8.206777  205.930000   \n",
              "589   74          1    1488.000000     1.50423  8.200958  411.938275   \n",
              "\n",
              "            TFF1         REG1A  sex_F  sex_M  \n",
              "0     654.282174   1262.000000      1      0  \n",
              "1     209.488250    228.407000      1      0  \n",
              "2     461.141000    735.281222      0      1  \n",
              "3     142.950000    735.281222      0      1  \n",
              "4      41.088000    735.281222      0      1  \n",
              "..           ...           ...    ...    ...  \n",
              "585   525.178000    735.281222      0      1  \n",
              "586   245.947000    735.281222      1      0  \n",
              "587   537.286000    735.281222      0      1  \n",
              "588   722.523000    735.281222      1      0  \n",
              "589  2021.321078  13200.000000      0      1  \n",
              "\n",
              "[590 rows x 10 columns]"
            ],
            "text/html": [
              "\n",
              "  <div id=\"df-a297fe81-3d4b-43ba-9d62-4c2fe6e3c4a4\">\n",
              "    <div class=\"colab-df-container\">\n",
              "      <div>\n",
              "<style scoped>\n",
              "    .dataframe tbody tr th:only-of-type {\n",
              "        vertical-align: middle;\n",
              "    }\n",
              "\n",
              "    .dataframe tbody tr th {\n",
              "        vertical-align: top;\n",
              "    }\n",
              "\n",
              "    .dataframe thead th {\n",
              "        text-align: right;\n",
              "    }\n",
              "</style>\n",
              "<table border=\"1\" class=\"dataframe\">\n",
              "  <thead>\n",
              "    <tr style=\"text-align: right;\">\n",
              "      <th></th>\n",
              "      <th>age</th>\n",
              "      <th>diagnosis</th>\n",
              "      <th>plasma_CA19_9</th>\n",
              "      <th>creatinine</th>\n",
              "      <th>LYVE1</th>\n",
              "      <th>REG1B</th>\n",
              "      <th>TFF1</th>\n",
              "      <th>REG1A</th>\n",
              "      <th>sex_F</th>\n",
              "      <th>sex_M</th>\n",
              "    </tr>\n",
              "  </thead>\n",
              "  <tbody>\n",
              "    <tr>\n",
              "      <th>0</th>\n",
              "      <td>33</td>\n",
              "      <td>0</td>\n",
              "      <td>11.700000</td>\n",
              "      <td>1.83222</td>\n",
              "      <td>0.893219</td>\n",
              "      <td>52.948840</td>\n",
              "      <td>654.282174</td>\n",
              "      <td>1262.000000</td>\n",
              "      <td>1</td>\n",
              "      <td>0</td>\n",
              "    </tr>\n",
              "    <tr>\n",
              "      <th>1</th>\n",
              "      <td>81</td>\n",
              "      <td>0</td>\n",
              "      <td>654.002944</td>\n",
              "      <td>0.97266</td>\n",
              "      <td>2.037585</td>\n",
              "      <td>94.467030</td>\n",
              "      <td>209.488250</td>\n",
              "      <td>228.407000</td>\n",
              "      <td>1</td>\n",
              "      <td>0</td>\n",
              "    </tr>\n",
              "    <tr>\n",
              "      <th>2</th>\n",
              "      <td>51</td>\n",
              "      <td>0</td>\n",
              "      <td>7.000000</td>\n",
              "      <td>0.78039</td>\n",
              "      <td>0.145589</td>\n",
              "      <td>102.366000</td>\n",
              "      <td>461.141000</td>\n",
              "      <td>735.281222</td>\n",
              "      <td>0</td>\n",
              "      <td>1</td>\n",
              "    </tr>\n",
              "    <tr>\n",
              "      <th>3</th>\n",
              "      <td>61</td>\n",
              "      <td>0</td>\n",
              "      <td>8.000000</td>\n",
              "      <td>0.70122</td>\n",
              "      <td>0.002805</td>\n",
              "      <td>60.579000</td>\n",
              "      <td>142.950000</td>\n",
              "      <td>735.281222</td>\n",
              "      <td>0</td>\n",
              "      <td>1</td>\n",
              "    </tr>\n",
              "    <tr>\n",
              "      <th>4</th>\n",
              "      <td>62</td>\n",
              "      <td>0</td>\n",
              "      <td>9.000000</td>\n",
              "      <td>0.21489</td>\n",
              "      <td>0.000860</td>\n",
              "      <td>65.540000</td>\n",
              "      <td>41.088000</td>\n",
              "      <td>735.281222</td>\n",
              "      <td>0</td>\n",
              "      <td>1</td>\n",
              "    </tr>\n",
              "    <tr>\n",
              "      <th>...</th>\n",
              "      <td>...</td>\n",
              "      <td>...</td>\n",
              "      <td>...</td>\n",
              "      <td>...</td>\n",
              "      <td>...</td>\n",
              "      <td>...</td>\n",
              "      <td>...</td>\n",
              "      <td>...</td>\n",
              "      <td>...</td>\n",
              "      <td>...</td>\n",
              "    </tr>\n",
              "    <tr>\n",
              "      <th>585</th>\n",
              "      <td>68</td>\n",
              "      <td>1</td>\n",
              "      <td>654.002944</td>\n",
              "      <td>0.52026</td>\n",
              "      <td>7.058209</td>\n",
              "      <td>156.241000</td>\n",
              "      <td>525.178000</td>\n",
              "      <td>735.281222</td>\n",
              "      <td>0</td>\n",
              "      <td>1</td>\n",
              "    </tr>\n",
              "    <tr>\n",
              "      <th>586</th>\n",
              "      <td>71</td>\n",
              "      <td>1</td>\n",
              "      <td>654.002944</td>\n",
              "      <td>0.85956</td>\n",
              "      <td>8.341207</td>\n",
              "      <td>16.915000</td>\n",
              "      <td>245.947000</td>\n",
              "      <td>735.281222</td>\n",
              "      <td>1</td>\n",
              "      <td>0</td>\n",
              "    </tr>\n",
              "    <tr>\n",
              "      <th>587</th>\n",
              "      <td>63</td>\n",
              "      <td>1</td>\n",
              "      <td>654.002944</td>\n",
              "      <td>1.36851</td>\n",
              "      <td>7.674707</td>\n",
              "      <td>289.701000</td>\n",
              "      <td>537.286000</td>\n",
              "      <td>735.281222</td>\n",
              "      <td>0</td>\n",
              "      <td>1</td>\n",
              "    </tr>\n",
              "    <tr>\n",
              "      <th>588</th>\n",
              "      <td>75</td>\n",
              "      <td>1</td>\n",
              "      <td>654.002944</td>\n",
              "      <td>1.33458</td>\n",
              "      <td>8.206777</td>\n",
              "      <td>205.930000</td>\n",
              "      <td>722.523000</td>\n",
              "      <td>735.281222</td>\n",
              "      <td>1</td>\n",
              "      <td>0</td>\n",
              "    </tr>\n",
              "    <tr>\n",
              "      <th>589</th>\n",
              "      <td>74</td>\n",
              "      <td>1</td>\n",
              "      <td>1488.000000</td>\n",
              "      <td>1.50423</td>\n",
              "      <td>8.200958</td>\n",
              "      <td>411.938275</td>\n",
              "      <td>2021.321078</td>\n",
              "      <td>13200.000000</td>\n",
              "      <td>0</td>\n",
              "      <td>1</td>\n",
              "    </tr>\n",
              "  </tbody>\n",
              "</table>\n",
              "<p>590 rows × 10 columns</p>\n",
              "</div>\n",
              "      <button class=\"colab-df-convert\" onclick=\"convertToInteractive('df-a297fe81-3d4b-43ba-9d62-4c2fe6e3c4a4')\"\n",
              "              title=\"Convert this dataframe to an interactive table.\"\n",
              "              style=\"display:none;\">\n",
              "        \n",
              "  <svg xmlns=\"http://www.w3.org/2000/svg\" height=\"24px\"viewBox=\"0 0 24 24\"\n",
              "       width=\"24px\">\n",
              "    <path d=\"M0 0h24v24H0V0z\" fill=\"none\"/>\n",
              "    <path d=\"M18.56 5.44l.94 2.06.94-2.06 2.06-.94-2.06-.94-.94-2.06-.94 2.06-2.06.94zm-11 1L8.5 8.5l.94-2.06 2.06-.94-2.06-.94L8.5 2.5l-.94 2.06-2.06.94zm10 10l.94 2.06.94-2.06 2.06-.94-2.06-.94-.94-2.06-.94 2.06-2.06.94z\"/><path d=\"M17.41 7.96l-1.37-1.37c-.4-.4-.92-.59-1.43-.59-.52 0-1.04.2-1.43.59L10.3 9.45l-7.72 7.72c-.78.78-.78 2.05 0 2.83L4 21.41c.39.39.9.59 1.41.59.51 0 1.02-.2 1.41-.59l7.78-7.78 2.81-2.81c.8-.78.8-2.07 0-2.86zM5.41 20L4 18.59l7.72-7.72 1.47 1.35L5.41 20z\"/>\n",
              "  </svg>\n",
              "      </button>\n",
              "      \n",
              "  <style>\n",
              "    .colab-df-container {\n",
              "      display:flex;\n",
              "      flex-wrap:wrap;\n",
              "      gap: 12px;\n",
              "    }\n",
              "\n",
              "    .colab-df-convert {\n",
              "      background-color: #E8F0FE;\n",
              "      border: none;\n",
              "      border-radius: 50%;\n",
              "      cursor: pointer;\n",
              "      display: none;\n",
              "      fill: #1967D2;\n",
              "      height: 32px;\n",
              "      padding: 0 0 0 0;\n",
              "      width: 32px;\n",
              "    }\n",
              "\n",
              "    .colab-df-convert:hover {\n",
              "      background-color: #E2EBFA;\n",
              "      box-shadow: 0px 1px 2px rgba(60, 64, 67, 0.3), 0px 1px 3px 1px rgba(60, 64, 67, 0.15);\n",
              "      fill: #174EA6;\n",
              "    }\n",
              "\n",
              "    [theme=dark] .colab-df-convert {\n",
              "      background-color: #3B4455;\n",
              "      fill: #D2E3FC;\n",
              "    }\n",
              "\n",
              "    [theme=dark] .colab-df-convert:hover {\n",
              "      background-color: #434B5C;\n",
              "      box-shadow: 0px 1px 3px 1px rgba(0, 0, 0, 0.15);\n",
              "      filter: drop-shadow(0px 1px 2px rgba(0, 0, 0, 0.3));\n",
              "      fill: #FFFFFF;\n",
              "    }\n",
              "  </style>\n",
              "\n",
              "      <script>\n",
              "        const buttonEl =\n",
              "          document.querySelector('#df-a297fe81-3d4b-43ba-9d62-4c2fe6e3c4a4 button.colab-df-convert');\n",
              "        buttonEl.style.display =\n",
              "          google.colab.kernel.accessAllowed ? 'block' : 'none';\n",
              "\n",
              "        async function convertToInteractive(key) {\n",
              "          const element = document.querySelector('#df-a297fe81-3d4b-43ba-9d62-4c2fe6e3c4a4');\n",
              "          const dataTable =\n",
              "            await google.colab.kernel.invokeFunction('convertToInteractive',\n",
              "                                                     [key], {});\n",
              "          if (!dataTable) return;\n",
              "\n",
              "          const docLinkHtml = 'Like what you see? Visit the ' +\n",
              "            '<a target=\"_blank\" href=https://colab.research.google.com/notebooks/data_table.ipynb>data table notebook</a>'\n",
              "            + ' to learn more about interactive tables.';\n",
              "          element.innerHTML = '';\n",
              "          dataTable['output_type'] = 'display_data';\n",
              "          await google.colab.output.renderOutput(dataTable, element);\n",
              "          const docLink = document.createElement('div');\n",
              "          docLink.innerHTML = docLinkHtml;\n",
              "          element.appendChild(docLink);\n",
              "        }\n",
              "      </script>\n",
              "    </div>\n",
              "  </div>\n",
              "  "
            ]
          },
          "metadata": {},
          "execution_count": 19
        }
      ]
    },
    {
      "cell_type": "markdown",
      "source": [
        "##Split pada Dataset"
      ],
      "metadata": {
        "id": "UXh2XRYNl7iO"
      }
    },
    {
      "cell_type": "markdown",
      "source": [
        "Melakukan pembagian dataset menjadi dengan 80% untuk data latih dan 20% untuk data uji. Pembagian dataset ini menggunakan modul train_test_split dari scikit-learn."
      ],
      "metadata": {
        "id": "aHgLTVFBi7Tq"
      }
    },
    {
      "cell_type": "code",
      "source": [
        "x = df.drop('diagnosis',axis=1)\n",
        "y = df['diagnosis']\n",
        "\n",
        "x_train, x_test, y_train, y_test = train_test_split(x, y, test_size = 0.2, random_state=5)"
      ],
      "metadata": {
        "id": "ladNQenJl2t5"
      },
      "execution_count": 20,
      "outputs": []
    },
    {
      "cell_type": "code",
      "source": [
        "print(f'Total of sample in whole dataset: {len(x)}')\n",
        "print(f'Total of sample in train dataset: {len(x_train)}')\n",
        "print(f'Total of sample in test dataset: {len(x_test)}')"
      ],
      "metadata": {
        "colab": {
          "base_uri": "https://localhost:8080/"
        },
        "id": "1TlDE50ymj5E",
        "outputId": "ef161b80-47cc-4aca-d9c2-9afeaa28fe86"
      },
      "execution_count": 21,
      "outputs": [
        {
          "output_type": "stream",
          "name": "stdout",
          "text": [
            "Total of sample in whole dataset: 590\n",
            "Total of sample in train dataset: 472\n",
            "Total of sample in test dataset: 118\n"
          ]
        }
      ]
    },
    {
      "cell_type": "markdown",
      "source": [
        "##Standard Scaler"
      ],
      "metadata": {
        "id": "rGIAYXTinlg4"
      }
    },
    {
      "cell_type": "markdown",
      "source": [
        "Melakukan normalisasi pada data dengan menggunakan Standard Scaler (MinMaxScaler)"
      ],
      "metadata": {
        "id": "LWRoK6Edi8La"
      }
    },
    {
      "cell_type": "code",
      "source": [
        "sc = MinMaxScaler()\n",
        "sc.fit(x_train)\n",
        "x_train = sc.transform(x_train)\n",
        "x_test = sc.transform(x_test)"
      ],
      "metadata": {
        "id": "EW08quWInq7z"
      },
      "execution_count": 22,
      "outputs": []
    },
    {
      "cell_type": "markdown",
      "source": [
        "## Modelling"
      ],
      "metadata": {
        "id": "tiDrnt3yjAC1"
      }
    },
    {
      "cell_type": "markdown",
      "source": [
        "**Model KNN**"
      ],
      "metadata": {
        "id": "vC9onuqjjDiz"
      }
    },
    {
      "cell_type": "code",
      "source": [
        "models = pd.DataFrame(index=['train_mse', 'test_mse'],\n",
        "                      columns=['KNN', 'RandomForest', 'SVM'])"
      ],
      "metadata": {
        "id": "bPpSoXFvoaYG"
      },
      "execution_count": 23,
      "outputs": []
    },
    {
      "cell_type": "code",
      "source": [
        "knn = KNeighborsClassifier()\n",
        "knn.fit(x_train, y_train)"
      ],
      "metadata": {
        "colab": {
          "base_uri": "https://localhost:8080/"
        },
        "id": "uhvll1yPouPQ",
        "outputId": "63c50459-8848-4e0b-843c-4ce1825a52a3"
      },
      "execution_count": 24,
      "outputs": [
        {
          "output_type": "execute_result",
          "data": {
            "text/plain": [
              "KNeighborsClassifier()"
            ]
          },
          "metadata": {},
          "execution_count": 24
        }
      ]
    },
    {
      "cell_type": "code",
      "source": [
        "knn_prediksi = knn.predict(x_test)\n",
        "accuracy_score(y_test, knn_prediksi)"
      ],
      "metadata": {
        "colab": {
          "base_uri": "https://localhost:8080/"
        },
        "id": "indeJfVBpAKz",
        "outputId": "aeb2914a-cd23-4f1b-dff2-481df9d1e386"
      },
      "execution_count": 25,
      "outputs": [
        {
          "output_type": "execute_result",
          "data": {
            "text/plain": [
              "0.8220338983050848"
            ]
          },
          "metadata": {},
          "execution_count": 25
        }
      ]
    },
    {
      "cell_type": "code",
      "source": [
        "from sklearn.metrics import accuracy_score, classification_report\n",
        "knn_cr = classification_report(y_test, knn_prediksi, output_dict=True)\n",
        "pd.DataFrame(knn_cr).transpose()"
      ],
      "metadata": {
        "colab": {
          "base_uri": "https://localhost:8080/",
          "height": 206
        },
        "id": "-OmvzGSapass",
        "outputId": "a7cb6e94-2b3f-4ef7-8976-b4b3fc66758d"
      },
      "execution_count": 26,
      "outputs": [
        {
          "output_type": "execute_result",
          "data": {
            "text/plain": [
              "              precision    recall  f1-score     support\n",
              "0              0.864865  0.853333  0.859060   75.000000\n",
              "1              0.750000  0.767442  0.758621   43.000000\n",
              "accuracy       0.822034  0.822034  0.822034    0.822034\n",
              "macro avg      0.807432  0.810388  0.808841  118.000000\n",
              "weighted avg   0.823007  0.822034  0.822459  118.000000"
            ],
            "text/html": [
              "\n",
              "  <div id=\"df-c5534a2d-523d-4c2b-982c-9d6a12f4808c\">\n",
              "    <div class=\"colab-df-container\">\n",
              "      <div>\n",
              "<style scoped>\n",
              "    .dataframe tbody tr th:only-of-type {\n",
              "        vertical-align: middle;\n",
              "    }\n",
              "\n",
              "    .dataframe tbody tr th {\n",
              "        vertical-align: top;\n",
              "    }\n",
              "\n",
              "    .dataframe thead th {\n",
              "        text-align: right;\n",
              "    }\n",
              "</style>\n",
              "<table border=\"1\" class=\"dataframe\">\n",
              "  <thead>\n",
              "    <tr style=\"text-align: right;\">\n",
              "      <th></th>\n",
              "      <th>precision</th>\n",
              "      <th>recall</th>\n",
              "      <th>f1-score</th>\n",
              "      <th>support</th>\n",
              "    </tr>\n",
              "  </thead>\n",
              "  <tbody>\n",
              "    <tr>\n",
              "      <th>0</th>\n",
              "      <td>0.864865</td>\n",
              "      <td>0.853333</td>\n",
              "      <td>0.859060</td>\n",
              "      <td>75.000000</td>\n",
              "    </tr>\n",
              "    <tr>\n",
              "      <th>1</th>\n",
              "      <td>0.750000</td>\n",
              "      <td>0.767442</td>\n",
              "      <td>0.758621</td>\n",
              "      <td>43.000000</td>\n",
              "    </tr>\n",
              "    <tr>\n",
              "      <th>accuracy</th>\n",
              "      <td>0.822034</td>\n",
              "      <td>0.822034</td>\n",
              "      <td>0.822034</td>\n",
              "      <td>0.822034</td>\n",
              "    </tr>\n",
              "    <tr>\n",
              "      <th>macro avg</th>\n",
              "      <td>0.807432</td>\n",
              "      <td>0.810388</td>\n",
              "      <td>0.808841</td>\n",
              "      <td>118.000000</td>\n",
              "    </tr>\n",
              "    <tr>\n",
              "      <th>weighted avg</th>\n",
              "      <td>0.823007</td>\n",
              "      <td>0.822034</td>\n",
              "      <td>0.822459</td>\n",
              "      <td>118.000000</td>\n",
              "    </tr>\n",
              "  </tbody>\n",
              "</table>\n",
              "</div>\n",
              "      <button class=\"colab-df-convert\" onclick=\"convertToInteractive('df-c5534a2d-523d-4c2b-982c-9d6a12f4808c')\"\n",
              "              title=\"Convert this dataframe to an interactive table.\"\n",
              "              style=\"display:none;\">\n",
              "        \n",
              "  <svg xmlns=\"http://www.w3.org/2000/svg\" height=\"24px\"viewBox=\"0 0 24 24\"\n",
              "       width=\"24px\">\n",
              "    <path d=\"M0 0h24v24H0V0z\" fill=\"none\"/>\n",
              "    <path d=\"M18.56 5.44l.94 2.06.94-2.06 2.06-.94-2.06-.94-.94-2.06-.94 2.06-2.06.94zm-11 1L8.5 8.5l.94-2.06 2.06-.94-2.06-.94L8.5 2.5l-.94 2.06-2.06.94zm10 10l.94 2.06.94-2.06 2.06-.94-2.06-.94-.94-2.06-.94 2.06-2.06.94z\"/><path d=\"M17.41 7.96l-1.37-1.37c-.4-.4-.92-.59-1.43-.59-.52 0-1.04.2-1.43.59L10.3 9.45l-7.72 7.72c-.78.78-.78 2.05 0 2.83L4 21.41c.39.39.9.59 1.41.59.51 0 1.02-.2 1.41-.59l7.78-7.78 2.81-2.81c.8-.78.8-2.07 0-2.86zM5.41 20L4 18.59l7.72-7.72 1.47 1.35L5.41 20z\"/>\n",
              "  </svg>\n",
              "      </button>\n",
              "      \n",
              "  <style>\n",
              "    .colab-df-container {\n",
              "      display:flex;\n",
              "      flex-wrap:wrap;\n",
              "      gap: 12px;\n",
              "    }\n",
              "\n",
              "    .colab-df-convert {\n",
              "      background-color: #E8F0FE;\n",
              "      border: none;\n",
              "      border-radius: 50%;\n",
              "      cursor: pointer;\n",
              "      display: none;\n",
              "      fill: #1967D2;\n",
              "      height: 32px;\n",
              "      padding: 0 0 0 0;\n",
              "      width: 32px;\n",
              "    }\n",
              "\n",
              "    .colab-df-convert:hover {\n",
              "      background-color: #E2EBFA;\n",
              "      box-shadow: 0px 1px 2px rgba(60, 64, 67, 0.3), 0px 1px 3px 1px rgba(60, 64, 67, 0.15);\n",
              "      fill: #174EA6;\n",
              "    }\n",
              "\n",
              "    [theme=dark] .colab-df-convert {\n",
              "      background-color: #3B4455;\n",
              "      fill: #D2E3FC;\n",
              "    }\n",
              "\n",
              "    [theme=dark] .colab-df-convert:hover {\n",
              "      background-color: #434B5C;\n",
              "      box-shadow: 0px 1px 3px 1px rgba(0, 0, 0, 0.15);\n",
              "      filter: drop-shadow(0px 1px 2px rgba(0, 0, 0, 0.3));\n",
              "      fill: #FFFFFF;\n",
              "    }\n",
              "  </style>\n",
              "\n",
              "      <script>\n",
              "        const buttonEl =\n",
              "          document.querySelector('#df-c5534a2d-523d-4c2b-982c-9d6a12f4808c button.colab-df-convert');\n",
              "        buttonEl.style.display =\n",
              "          google.colab.kernel.accessAllowed ? 'block' : 'none';\n",
              "\n",
              "        async function convertToInteractive(key) {\n",
              "          const element = document.querySelector('#df-c5534a2d-523d-4c2b-982c-9d6a12f4808c');\n",
              "          const dataTable =\n",
              "            await google.colab.kernel.invokeFunction('convertToInteractive',\n",
              "                                                     [key], {});\n",
              "          if (!dataTable) return;\n",
              "\n",
              "          const docLinkHtml = 'Like what you see? Visit the ' +\n",
              "            '<a target=\"_blank\" href=https://colab.research.google.com/notebooks/data_table.ipynb>data table notebook</a>'\n",
              "            + ' to learn more about interactive tables.';\n",
              "          element.innerHTML = '';\n",
              "          dataTable['output_type'] = 'display_data';\n",
              "          await google.colab.output.renderOutput(dataTable, element);\n",
              "          const docLink = document.createElement('div');\n",
              "          docLink.innerHTML = docLinkHtml;\n",
              "          element.appendChild(docLink);\n",
              "        }\n",
              "      </script>\n",
              "    </div>\n",
              "  </div>\n",
              "  "
            ]
          },
          "metadata": {},
          "execution_count": 26
        }
      ]
    },
    {
      "cell_type": "markdown",
      "source": [
        "**Model Random Forest**"
      ],
      "metadata": {
        "id": "dK29Xq4mjMGg"
      }
    },
    {
      "cell_type": "code",
      "source": [
        "rf = RandomForestClassifier()\n",
        "rf.fit(x_train, y_train)"
      ],
      "metadata": {
        "colab": {
          "base_uri": "https://localhost:8080/"
        },
        "id": "BwD4BObXqD35",
        "outputId": "1842df7c-cf3a-4ed8-db49-fe34934368ea"
      },
      "execution_count": 27,
      "outputs": [
        {
          "output_type": "execute_result",
          "data": {
            "text/plain": [
              "RandomForestClassifier()"
            ]
          },
          "metadata": {},
          "execution_count": 27
        }
      ]
    },
    {
      "cell_type": "code",
      "source": [
        "rf_prediksi = rf.predict(x_test)\n",
        "accuracy_score(y_test, rf_prediksi)"
      ],
      "metadata": {
        "colab": {
          "base_uri": "https://localhost:8080/"
        },
        "id": "ek_1n7tjqL9g",
        "outputId": "10970321-6cd5-4d83-c101-713953d86aed"
      },
      "execution_count": 28,
      "outputs": [
        {
          "output_type": "execute_result",
          "data": {
            "text/plain": [
              "0.8389830508474576"
            ]
          },
          "metadata": {},
          "execution_count": 28
        }
      ]
    },
    {
      "cell_type": "code",
      "source": [
        "rf_cr = classification_report(y_test, rf_prediksi, output_dict=True)\n",
        "pd.DataFrame(rf_cr).transpose()"
      ],
      "metadata": {
        "colab": {
          "base_uri": "https://localhost:8080/",
          "height": 206
        },
        "id": "T6PpPow_qWZC",
        "outputId": "1a13db34-171a-4f3c-aff9-aede79ebde7d"
      },
      "execution_count": 29,
      "outputs": [
        {
          "output_type": "execute_result",
          "data": {
            "text/plain": [
              "              precision    recall  f1-score     support\n",
              "0              0.858974  0.893333  0.875817   75.000000\n",
              "1              0.800000  0.744186  0.771084   43.000000\n",
              "accuracy       0.838983  0.838983  0.838983    0.838983\n",
              "macro avg      0.829487  0.818760  0.823451  118.000000\n",
              "weighted avg   0.837484  0.838983  0.837652  118.000000"
            ],
            "text/html": [
              "\n",
              "  <div id=\"df-12026fa3-4bbe-4394-a74d-463ee12cd413\">\n",
              "    <div class=\"colab-df-container\">\n",
              "      <div>\n",
              "<style scoped>\n",
              "    .dataframe tbody tr th:only-of-type {\n",
              "        vertical-align: middle;\n",
              "    }\n",
              "\n",
              "    .dataframe tbody tr th {\n",
              "        vertical-align: top;\n",
              "    }\n",
              "\n",
              "    .dataframe thead th {\n",
              "        text-align: right;\n",
              "    }\n",
              "</style>\n",
              "<table border=\"1\" class=\"dataframe\">\n",
              "  <thead>\n",
              "    <tr style=\"text-align: right;\">\n",
              "      <th></th>\n",
              "      <th>precision</th>\n",
              "      <th>recall</th>\n",
              "      <th>f1-score</th>\n",
              "      <th>support</th>\n",
              "    </tr>\n",
              "  </thead>\n",
              "  <tbody>\n",
              "    <tr>\n",
              "      <th>0</th>\n",
              "      <td>0.858974</td>\n",
              "      <td>0.893333</td>\n",
              "      <td>0.875817</td>\n",
              "      <td>75.000000</td>\n",
              "    </tr>\n",
              "    <tr>\n",
              "      <th>1</th>\n",
              "      <td>0.800000</td>\n",
              "      <td>0.744186</td>\n",
              "      <td>0.771084</td>\n",
              "      <td>43.000000</td>\n",
              "    </tr>\n",
              "    <tr>\n",
              "      <th>accuracy</th>\n",
              "      <td>0.838983</td>\n",
              "      <td>0.838983</td>\n",
              "      <td>0.838983</td>\n",
              "      <td>0.838983</td>\n",
              "    </tr>\n",
              "    <tr>\n",
              "      <th>macro avg</th>\n",
              "      <td>0.829487</td>\n",
              "      <td>0.818760</td>\n",
              "      <td>0.823451</td>\n",
              "      <td>118.000000</td>\n",
              "    </tr>\n",
              "    <tr>\n",
              "      <th>weighted avg</th>\n",
              "      <td>0.837484</td>\n",
              "      <td>0.838983</td>\n",
              "      <td>0.837652</td>\n",
              "      <td>118.000000</td>\n",
              "    </tr>\n",
              "  </tbody>\n",
              "</table>\n",
              "</div>\n",
              "      <button class=\"colab-df-convert\" onclick=\"convertToInteractive('df-12026fa3-4bbe-4394-a74d-463ee12cd413')\"\n",
              "              title=\"Convert this dataframe to an interactive table.\"\n",
              "              style=\"display:none;\">\n",
              "        \n",
              "  <svg xmlns=\"http://www.w3.org/2000/svg\" height=\"24px\"viewBox=\"0 0 24 24\"\n",
              "       width=\"24px\">\n",
              "    <path d=\"M0 0h24v24H0V0z\" fill=\"none\"/>\n",
              "    <path d=\"M18.56 5.44l.94 2.06.94-2.06 2.06-.94-2.06-.94-.94-2.06-.94 2.06-2.06.94zm-11 1L8.5 8.5l.94-2.06 2.06-.94-2.06-.94L8.5 2.5l-.94 2.06-2.06.94zm10 10l.94 2.06.94-2.06 2.06-.94-2.06-.94-.94-2.06-.94 2.06-2.06.94z\"/><path d=\"M17.41 7.96l-1.37-1.37c-.4-.4-.92-.59-1.43-.59-.52 0-1.04.2-1.43.59L10.3 9.45l-7.72 7.72c-.78.78-.78 2.05 0 2.83L4 21.41c.39.39.9.59 1.41.59.51 0 1.02-.2 1.41-.59l7.78-7.78 2.81-2.81c.8-.78.8-2.07 0-2.86zM5.41 20L4 18.59l7.72-7.72 1.47 1.35L5.41 20z\"/>\n",
              "  </svg>\n",
              "      </button>\n",
              "      \n",
              "  <style>\n",
              "    .colab-df-container {\n",
              "      display:flex;\n",
              "      flex-wrap:wrap;\n",
              "      gap: 12px;\n",
              "    }\n",
              "\n",
              "    .colab-df-convert {\n",
              "      background-color: #E8F0FE;\n",
              "      border: none;\n",
              "      border-radius: 50%;\n",
              "      cursor: pointer;\n",
              "      display: none;\n",
              "      fill: #1967D2;\n",
              "      height: 32px;\n",
              "      padding: 0 0 0 0;\n",
              "      width: 32px;\n",
              "    }\n",
              "\n",
              "    .colab-df-convert:hover {\n",
              "      background-color: #E2EBFA;\n",
              "      box-shadow: 0px 1px 2px rgba(60, 64, 67, 0.3), 0px 1px 3px 1px rgba(60, 64, 67, 0.15);\n",
              "      fill: #174EA6;\n",
              "    }\n",
              "\n",
              "    [theme=dark] .colab-df-convert {\n",
              "      background-color: #3B4455;\n",
              "      fill: #D2E3FC;\n",
              "    }\n",
              "\n",
              "    [theme=dark] .colab-df-convert:hover {\n",
              "      background-color: #434B5C;\n",
              "      box-shadow: 0px 1px 3px 1px rgba(0, 0, 0, 0.15);\n",
              "      filter: drop-shadow(0px 1px 2px rgba(0, 0, 0, 0.3));\n",
              "      fill: #FFFFFF;\n",
              "    }\n",
              "  </style>\n",
              "\n",
              "      <script>\n",
              "        const buttonEl =\n",
              "          document.querySelector('#df-12026fa3-4bbe-4394-a74d-463ee12cd413 button.colab-df-convert');\n",
              "        buttonEl.style.display =\n",
              "          google.colab.kernel.accessAllowed ? 'block' : 'none';\n",
              "\n",
              "        async function convertToInteractive(key) {\n",
              "          const element = document.querySelector('#df-12026fa3-4bbe-4394-a74d-463ee12cd413');\n",
              "          const dataTable =\n",
              "            await google.colab.kernel.invokeFunction('convertToInteractive',\n",
              "                                                     [key], {});\n",
              "          if (!dataTable) return;\n",
              "\n",
              "          const docLinkHtml = 'Like what you see? Visit the ' +\n",
              "            '<a target=\"_blank\" href=https://colab.research.google.com/notebooks/data_table.ipynb>data table notebook</a>'\n",
              "            + ' to learn more about interactive tables.';\n",
              "          element.innerHTML = '';\n",
              "          dataTable['output_type'] = 'display_data';\n",
              "          await google.colab.output.renderOutput(dataTable, element);\n",
              "          const docLink = document.createElement('div');\n",
              "          docLink.innerHTML = docLinkHtml;\n",
              "          element.appendChild(docLink);\n",
              "        }\n",
              "      </script>\n",
              "    </div>\n",
              "  </div>\n",
              "  "
            ]
          },
          "metadata": {},
          "execution_count": 29
        }
      ]
    },
    {
      "cell_type": "markdown",
      "source": [
        "**Model SVM**"
      ],
      "metadata": {
        "id": "clSD6No3jPUL"
      }
    },
    {
      "cell_type": "code",
      "source": [
        "svm = SVC()\n",
        "svm.fit(x_train, y_train)"
      ],
      "metadata": {
        "colab": {
          "base_uri": "https://localhost:8080/"
        },
        "id": "DiAInIuJqkm3",
        "outputId": "f058e778-113b-4b53-9d24-611ba6bf8f08"
      },
      "execution_count": 30,
      "outputs": [
        {
          "output_type": "execute_result",
          "data": {
            "text/plain": [
              "SVC()"
            ]
          },
          "metadata": {},
          "execution_count": 30
        }
      ]
    },
    {
      "cell_type": "code",
      "source": [
        "svm_prediksi = svm.predict(x_test)\n",
        "accuracy_score(y_test, knn_prediksi)"
      ],
      "metadata": {
        "colab": {
          "base_uri": "https://localhost:8080/"
        },
        "id": "babPiIB7rGMb",
        "outputId": "61ea54bf-270b-4bfb-913d-282568e73ea1"
      },
      "execution_count": 31,
      "outputs": [
        {
          "output_type": "execute_result",
          "data": {
            "text/plain": [
              "0.8220338983050848"
            ]
          },
          "metadata": {},
          "execution_count": 31
        }
      ]
    },
    {
      "cell_type": "code",
      "source": [
        "svm_cr = classification_report(y_test, svm_prediksi, output_dict=True)\n",
        "pd.DataFrame(svm_cr).transpose()"
      ],
      "metadata": {
        "colab": {
          "base_uri": "https://localhost:8080/",
          "height": 206
        },
        "id": "BQOQFxyurctd",
        "outputId": "b4663c2a-de65-4a96-e80d-4f34dfd47f73"
      },
      "execution_count": 32,
      "outputs": [
        {
          "output_type": "execute_result",
          "data": {
            "text/plain": [
              "              precision    recall  f1-score     support\n",
              "0              0.827160  0.893333  0.858974   75.000000\n",
              "1              0.783784  0.674419  0.725000   43.000000\n",
              "accuracy       0.813559  0.813559  0.813559    0.813559\n",
              "macro avg      0.805472  0.783876  0.791987  118.000000\n",
              "weighted avg   0.811354  0.813559  0.810153  118.000000"
            ],
            "text/html": [
              "\n",
              "  <div id=\"df-05665b08-1a20-4bb2-a7fe-7aa4348f0c9a\">\n",
              "    <div class=\"colab-df-container\">\n",
              "      <div>\n",
              "<style scoped>\n",
              "    .dataframe tbody tr th:only-of-type {\n",
              "        vertical-align: middle;\n",
              "    }\n",
              "\n",
              "    .dataframe tbody tr th {\n",
              "        vertical-align: top;\n",
              "    }\n",
              "\n",
              "    .dataframe thead th {\n",
              "        text-align: right;\n",
              "    }\n",
              "</style>\n",
              "<table border=\"1\" class=\"dataframe\">\n",
              "  <thead>\n",
              "    <tr style=\"text-align: right;\">\n",
              "      <th></th>\n",
              "      <th>precision</th>\n",
              "      <th>recall</th>\n",
              "      <th>f1-score</th>\n",
              "      <th>support</th>\n",
              "    </tr>\n",
              "  </thead>\n",
              "  <tbody>\n",
              "    <tr>\n",
              "      <th>0</th>\n",
              "      <td>0.827160</td>\n",
              "      <td>0.893333</td>\n",
              "      <td>0.858974</td>\n",
              "      <td>75.000000</td>\n",
              "    </tr>\n",
              "    <tr>\n",
              "      <th>1</th>\n",
              "      <td>0.783784</td>\n",
              "      <td>0.674419</td>\n",
              "      <td>0.725000</td>\n",
              "      <td>43.000000</td>\n",
              "    </tr>\n",
              "    <tr>\n",
              "      <th>accuracy</th>\n",
              "      <td>0.813559</td>\n",
              "      <td>0.813559</td>\n",
              "      <td>0.813559</td>\n",
              "      <td>0.813559</td>\n",
              "    </tr>\n",
              "    <tr>\n",
              "      <th>macro avg</th>\n",
              "      <td>0.805472</td>\n",
              "      <td>0.783876</td>\n",
              "      <td>0.791987</td>\n",
              "      <td>118.000000</td>\n",
              "    </tr>\n",
              "    <tr>\n",
              "      <th>weighted avg</th>\n",
              "      <td>0.811354</td>\n",
              "      <td>0.813559</td>\n",
              "      <td>0.810153</td>\n",
              "      <td>118.000000</td>\n",
              "    </tr>\n",
              "  </tbody>\n",
              "</table>\n",
              "</div>\n",
              "      <button class=\"colab-df-convert\" onclick=\"convertToInteractive('df-05665b08-1a20-4bb2-a7fe-7aa4348f0c9a')\"\n",
              "              title=\"Convert this dataframe to an interactive table.\"\n",
              "              style=\"display:none;\">\n",
              "        \n",
              "  <svg xmlns=\"http://www.w3.org/2000/svg\" height=\"24px\"viewBox=\"0 0 24 24\"\n",
              "       width=\"24px\">\n",
              "    <path d=\"M0 0h24v24H0V0z\" fill=\"none\"/>\n",
              "    <path d=\"M18.56 5.44l.94 2.06.94-2.06 2.06-.94-2.06-.94-.94-2.06-.94 2.06-2.06.94zm-11 1L8.5 8.5l.94-2.06 2.06-.94-2.06-.94L8.5 2.5l-.94 2.06-2.06.94zm10 10l.94 2.06.94-2.06 2.06-.94-2.06-.94-.94-2.06-.94 2.06-2.06.94z\"/><path d=\"M17.41 7.96l-1.37-1.37c-.4-.4-.92-.59-1.43-.59-.52 0-1.04.2-1.43.59L10.3 9.45l-7.72 7.72c-.78.78-.78 2.05 0 2.83L4 21.41c.39.39.9.59 1.41.59.51 0 1.02-.2 1.41-.59l7.78-7.78 2.81-2.81c.8-.78.8-2.07 0-2.86zM5.41 20L4 18.59l7.72-7.72 1.47 1.35L5.41 20z\"/>\n",
              "  </svg>\n",
              "      </button>\n",
              "      \n",
              "  <style>\n",
              "    .colab-df-container {\n",
              "      display:flex;\n",
              "      flex-wrap:wrap;\n",
              "      gap: 12px;\n",
              "    }\n",
              "\n",
              "    .colab-df-convert {\n",
              "      background-color: #E8F0FE;\n",
              "      border: none;\n",
              "      border-radius: 50%;\n",
              "      cursor: pointer;\n",
              "      display: none;\n",
              "      fill: #1967D2;\n",
              "      height: 32px;\n",
              "      padding: 0 0 0 0;\n",
              "      width: 32px;\n",
              "    }\n",
              "\n",
              "    .colab-df-convert:hover {\n",
              "      background-color: #E2EBFA;\n",
              "      box-shadow: 0px 1px 2px rgba(60, 64, 67, 0.3), 0px 1px 3px 1px rgba(60, 64, 67, 0.15);\n",
              "      fill: #174EA6;\n",
              "    }\n",
              "\n",
              "    [theme=dark] .colab-df-convert {\n",
              "      background-color: #3B4455;\n",
              "      fill: #D2E3FC;\n",
              "    }\n",
              "\n",
              "    [theme=dark] .colab-df-convert:hover {\n",
              "      background-color: #434B5C;\n",
              "      box-shadow: 0px 1px 3px 1px rgba(0, 0, 0, 0.15);\n",
              "      filter: drop-shadow(0px 1px 2px rgba(0, 0, 0, 0.3));\n",
              "      fill: #FFFFFF;\n",
              "    }\n",
              "  </style>\n",
              "\n",
              "      <script>\n",
              "        const buttonEl =\n",
              "          document.querySelector('#df-05665b08-1a20-4bb2-a7fe-7aa4348f0c9a button.colab-df-convert');\n",
              "        buttonEl.style.display =\n",
              "          google.colab.kernel.accessAllowed ? 'block' : 'none';\n",
              "\n",
              "        async function convertToInteractive(key) {\n",
              "          const element = document.querySelector('#df-05665b08-1a20-4bb2-a7fe-7aa4348f0c9a');\n",
              "          const dataTable =\n",
              "            await google.colab.kernel.invokeFunction('convertToInteractive',\n",
              "                                                     [key], {});\n",
              "          if (!dataTable) return;\n",
              "\n",
              "          const docLinkHtml = 'Like what you see? Visit the ' +\n",
              "            '<a target=\"_blank\" href=https://colab.research.google.com/notebooks/data_table.ipynb>data table notebook</a>'\n",
              "            + ' to learn more about interactive tables.';\n",
              "          element.innerHTML = '';\n",
              "          dataTable['output_type'] = 'display_data';\n",
              "          await google.colab.output.renderOutput(dataTable, element);\n",
              "          const docLink = document.createElement('div');\n",
              "          docLink.innerHTML = docLinkHtml;\n",
              "          element.appendChild(docLink);\n",
              "        }\n",
              "      </script>\n",
              "    </div>\n",
              "  </div>\n",
              "  "
            ]
          },
          "metadata": {},
          "execution_count": 32
        }
      ]
    },
    {
      "cell_type": "markdown",
      "source": [
        "##Evaluation"
      ],
      "metadata": {
        "id": "L5_dNPPDj5FV"
      }
    },
    {
      "cell_type": "markdown",
      "source": [
        "**Perbandingan Matrix antar model**"
      ],
      "metadata": {
        "id": "rTFExGtpj7BS"
      }
    },
    {
      "cell_type": "code",
      "source": [
        "metrics = pd.DataFrame({'accuracy' : [knn_cr['accuracy'], rf_cr['accuracy'], svm_cr['accuracy']], \n",
        "                        'f1-score_0' : [knn_cr['0']['f1-score'], rf_cr['0']['f1-score'], svm_cr['0']['f1-score']],\n",
        "                        'precision_0' : [knn_cr['0']['precision'], rf_cr['0']['precision'], svm_cr['0']['precision']],\n",
        "                        'recall_0' : [knn_cr['0']['recall'], rf_cr['0']['recall'], svm_cr['0']['recall']],\n",
        "                        'f1-score_1' : [knn_cr['1']['f1-score'], rf_cr['1']['f1-score'], svm_cr['1']['f1-score']],\n",
        "                        'precision_1' : [knn_cr['1']['precision'], rf_cr['1']['precision'], svm_cr['1']['precision']],\n",
        "                        'recall_1' : [knn_cr['1']['recall'], rf_cr['1']['recall'], svm_cr['1']['recall']]},\n",
        "                        index=['KNN','RF','SVM'])\n",
        "multiheader = [('','accuracy'),\n",
        "               ('0', 'f1-score'),\n",
        "               ('0', 'precision'),\n",
        "               ('0', 'recall'),\n",
        "               ('1', 'f1-score'),\n",
        "               ('1', 'precision'),\n",
        "               ('1', 'recall')]\n",
        "metrics.columns = pd.MultiIndex.from_tuples(multiheader)\n",
        "# Menampilkan dataframe\n",
        "metrics"
      ],
      "metadata": {
        "colab": {
          "base_uri": "https://localhost:8080/",
          "height": 175
        },
        "id": "PR11g6aNrz6Z",
        "outputId": "87f5ac5d-ee68-4592-f8e6-f8b8eb95cb64"
      },
      "execution_count": 33,
      "outputs": [
        {
          "output_type": "execute_result",
          "data": {
            "text/plain": [
              "                      0                             1                    \n",
              "     accuracy  f1-score precision    recall  f1-score precision    recall\n",
              "KNN  0.822034  0.859060  0.864865  0.853333  0.758621  0.750000  0.767442\n",
              "RF   0.838983  0.875817  0.858974  0.893333  0.771084  0.800000  0.744186\n",
              "SVM  0.813559  0.858974  0.827160  0.893333  0.725000  0.783784  0.674419"
            ],
            "text/html": [
              "\n",
              "  <div id=\"df-574f117b-428e-4714-b5ac-569510ec38f7\">\n",
              "    <div class=\"colab-df-container\">\n",
              "      <div>\n",
              "<style scoped>\n",
              "    .dataframe tbody tr th:only-of-type {\n",
              "        vertical-align: middle;\n",
              "    }\n",
              "\n",
              "    .dataframe tbody tr th {\n",
              "        vertical-align: top;\n",
              "    }\n",
              "\n",
              "    .dataframe thead tr th {\n",
              "        text-align: left;\n",
              "    }\n",
              "</style>\n",
              "<table border=\"1\" class=\"dataframe\">\n",
              "  <thead>\n",
              "    <tr>\n",
              "      <th></th>\n",
              "      <th></th>\n",
              "      <th colspan=\"3\" halign=\"left\">0</th>\n",
              "      <th colspan=\"3\" halign=\"left\">1</th>\n",
              "    </tr>\n",
              "    <tr>\n",
              "      <th></th>\n",
              "      <th>accuracy</th>\n",
              "      <th>f1-score</th>\n",
              "      <th>precision</th>\n",
              "      <th>recall</th>\n",
              "      <th>f1-score</th>\n",
              "      <th>precision</th>\n",
              "      <th>recall</th>\n",
              "    </tr>\n",
              "  </thead>\n",
              "  <tbody>\n",
              "    <tr>\n",
              "      <th>KNN</th>\n",
              "      <td>0.822034</td>\n",
              "      <td>0.859060</td>\n",
              "      <td>0.864865</td>\n",
              "      <td>0.853333</td>\n",
              "      <td>0.758621</td>\n",
              "      <td>0.750000</td>\n",
              "      <td>0.767442</td>\n",
              "    </tr>\n",
              "    <tr>\n",
              "      <th>RF</th>\n",
              "      <td>0.838983</td>\n",
              "      <td>0.875817</td>\n",
              "      <td>0.858974</td>\n",
              "      <td>0.893333</td>\n",
              "      <td>0.771084</td>\n",
              "      <td>0.800000</td>\n",
              "      <td>0.744186</td>\n",
              "    </tr>\n",
              "    <tr>\n",
              "      <th>SVM</th>\n",
              "      <td>0.813559</td>\n",
              "      <td>0.858974</td>\n",
              "      <td>0.827160</td>\n",
              "      <td>0.893333</td>\n",
              "      <td>0.725000</td>\n",
              "      <td>0.783784</td>\n",
              "      <td>0.674419</td>\n",
              "    </tr>\n",
              "  </tbody>\n",
              "</table>\n",
              "</div>\n",
              "      <button class=\"colab-df-convert\" onclick=\"convertToInteractive('df-574f117b-428e-4714-b5ac-569510ec38f7')\"\n",
              "              title=\"Convert this dataframe to an interactive table.\"\n",
              "              style=\"display:none;\">\n",
              "        \n",
              "  <svg xmlns=\"http://www.w3.org/2000/svg\" height=\"24px\"viewBox=\"0 0 24 24\"\n",
              "       width=\"24px\">\n",
              "    <path d=\"M0 0h24v24H0V0z\" fill=\"none\"/>\n",
              "    <path d=\"M18.56 5.44l.94 2.06.94-2.06 2.06-.94-2.06-.94-.94-2.06-.94 2.06-2.06.94zm-11 1L8.5 8.5l.94-2.06 2.06-.94-2.06-.94L8.5 2.5l-.94 2.06-2.06.94zm10 10l.94 2.06.94-2.06 2.06-.94-2.06-.94-.94-2.06-.94 2.06-2.06.94z\"/><path d=\"M17.41 7.96l-1.37-1.37c-.4-.4-.92-.59-1.43-.59-.52 0-1.04.2-1.43.59L10.3 9.45l-7.72 7.72c-.78.78-.78 2.05 0 2.83L4 21.41c.39.39.9.59 1.41.59.51 0 1.02-.2 1.41-.59l7.78-7.78 2.81-2.81c.8-.78.8-2.07 0-2.86zM5.41 20L4 18.59l7.72-7.72 1.47 1.35L5.41 20z\"/>\n",
              "  </svg>\n",
              "      </button>\n",
              "      \n",
              "  <style>\n",
              "    .colab-df-container {\n",
              "      display:flex;\n",
              "      flex-wrap:wrap;\n",
              "      gap: 12px;\n",
              "    }\n",
              "\n",
              "    .colab-df-convert {\n",
              "      background-color: #E8F0FE;\n",
              "      border: none;\n",
              "      border-radius: 50%;\n",
              "      cursor: pointer;\n",
              "      display: none;\n",
              "      fill: #1967D2;\n",
              "      height: 32px;\n",
              "      padding: 0 0 0 0;\n",
              "      width: 32px;\n",
              "    }\n",
              "\n",
              "    .colab-df-convert:hover {\n",
              "      background-color: #E2EBFA;\n",
              "      box-shadow: 0px 1px 2px rgba(60, 64, 67, 0.3), 0px 1px 3px 1px rgba(60, 64, 67, 0.15);\n",
              "      fill: #174EA6;\n",
              "    }\n",
              "\n",
              "    [theme=dark] .colab-df-convert {\n",
              "      background-color: #3B4455;\n",
              "      fill: #D2E3FC;\n",
              "    }\n",
              "\n",
              "    [theme=dark] .colab-df-convert:hover {\n",
              "      background-color: #434B5C;\n",
              "      box-shadow: 0px 1px 3px 1px rgba(0, 0, 0, 0.15);\n",
              "      filter: drop-shadow(0px 1px 2px rgba(0, 0, 0, 0.3));\n",
              "      fill: #FFFFFF;\n",
              "    }\n",
              "  </style>\n",
              "\n",
              "      <script>\n",
              "        const buttonEl =\n",
              "          document.querySelector('#df-574f117b-428e-4714-b5ac-569510ec38f7 button.colab-df-convert');\n",
              "        buttonEl.style.display =\n",
              "          google.colab.kernel.accessAllowed ? 'block' : 'none';\n",
              "\n",
              "        async function convertToInteractive(key) {\n",
              "          const element = document.querySelector('#df-574f117b-428e-4714-b5ac-569510ec38f7');\n",
              "          const dataTable =\n",
              "            await google.colab.kernel.invokeFunction('convertToInteractive',\n",
              "                                                     [key], {});\n",
              "          if (!dataTable) return;\n",
              "\n",
              "          const docLinkHtml = 'Like what you see? Visit the ' +\n",
              "            '<a target=\"_blank\" href=https://colab.research.google.com/notebooks/data_table.ipynb>data table notebook</a>'\n",
              "            + ' to learn more about interactive tables.';\n",
              "          element.innerHTML = '';\n",
              "          dataTable['output_type'] = 'display_data';\n",
              "          await google.colab.output.renderOutput(dataTable, element);\n",
              "          const docLink = document.createElement('div');\n",
              "          docLink.innerHTML = docLinkHtml;\n",
              "          element.appendChild(docLink);\n",
              "        }\n",
              "      </script>\n",
              "    </div>\n",
              "  </div>\n",
              "  "
            ]
          },
          "metadata": {},
          "execution_count": 33
        }
      ]
    },
    {
      "cell_type": "markdown",
      "source": [
        "##Confussion Matrix"
      ],
      "metadata": {
        "id": "83l90gpbyIEH"
      }
    },
    {
      "cell_type": "markdown",
      "source": [
        "**Visualisasi Confussion Matrix KNN**"
      ],
      "metadata": {
        "id": "ptvYPDnjkBlk"
      }
    },
    {
      "cell_type": "code",
      "source": [
        "from sklearn.metrics import accuracy_score, confusion_matrix\n",
        "knn_cm = confusion_matrix(y_test, knn_prediksi)\n",
        "sns.heatmap(knn_cm,\n",
        "            annot=True,\n",
        "            fmt='.2f',\n",
        "            cmap='YlGnBu')"
      ],
      "metadata": {
        "colab": {
          "base_uri": "https://localhost:8080/",
          "height": 283
        },
        "id": "7V4v6yntyHlV",
        "outputId": "9fee7b05-9982-488c-8801-5e0c5e55ad44"
      },
      "execution_count": 34,
      "outputs": [
        {
          "output_type": "execute_result",
          "data": {
            "text/plain": [
              "<matplotlib.axes._subplots.AxesSubplot at 0x7f67f0c03f50>"
            ]
          },
          "metadata": {},
          "execution_count": 34
        },
        {
          "output_type": "display_data",
          "data": {
            "text/plain": [
              "<Figure size 432x288 with 2 Axes>"
            ],
            "image/png": "[encoded data removed]"
          },
          "metadata": {
            "needs_background": "light"
          }
        }
      ]
    },
    {
      "cell_type": "markdown",
      "source": [
        "**Visualisasi Confussion Matrix Random Forest**"
      ],
      "metadata": {
        "id": "NLyZG6mFkGtk"
      }
    },
    {
      "cell_type": "code",
      "source": [
        "rf_cm = confusion_matrix(y_test, rf_prediksi)\n",
        "sns.heatmap(rf_cm,\n",
        "            annot=True,\n",
        "            fmt='.2f',\n",
        "            cmap='YlGnBu')"
      ],
      "metadata": {
        "colab": {
          "base_uri": "https://localhost:8080/",
          "height": 283
        },
        "id": "N1xDhigbymEl",
        "outputId": "cd7623c0-eb99-40d8-9837-7c2cc0d55e77"
      },
      "execution_count": 35,
      "outputs": [
        {
          "output_type": "execute_result",
          "data": {
            "text/plain": [
              "<matplotlib.axes._subplots.AxesSubplot at 0x7f67f0b5bf50>"
            ]
          },
          "metadata": {},
          "execution_count": 35
        },
        {
          "output_type": "display_data",
          "data": {
            "text/plain": [
              "<Figure size 432x288 with 2 Axes>"
            ],
            "image/png": "[encoded data removed]"
          },
          "metadata": {
            "needs_background": "light"
          }
        }
      ]
    },
    {
      "cell_type": "markdown",
      "source": [
        "**Visualisasi Confussion Matrix SVM**"
      ],
      "metadata": {
        "id": "DuS7v1h6kJTK"
      }
    },
    {
      "cell_type": "code",
      "source": [
        "svm_cm = confusion_matrix(y_test, svm_prediksi)\n",
        "sns.heatmap(svm_cm,\n",
        "            annot=True,\n",
        "            fmt='.2f',\n",
        "            cmap='YlGnBu')"
      ],
      "metadata": {
        "colab": {
          "base_uri": "https://localhost:8080/",
          "height": 283
        },
        "id": "H0nMxiFry2YP",
        "outputId": "99be746c-0699-46fe-8479-a818878da7b8"
      },
      "execution_count": 36,
      "outputs": [
        {
          "output_type": "execute_result",
          "data": {
            "text/plain": [
              "<matplotlib.axes._subplots.AxesSubplot at 0x7f67f0b05410>"
            ]
          },
          "metadata": {},
          "execution_count": 36
        },
        {
          "output_type": "display_data",
          "data": {
            "text/plain": [
              "<Figure size 432x288 with 2 Axes>"
            ],
            "image/png": "[encoded data removed]"
          },
          "metadata": {
            "needs_background": "light"
          }
        }
      ]
    }
  ]
}